{
  "cells": [
    {
      "cell_type": "markdown",
      "metadata": {
        "id": "j1xXlQXoMi-B"
      },
      "source": [
        "## **Machine Learning Approach for Early Diagnosis of Type 2 Diabetes in the Spanish Adult Population**\n",
        "\n",
        "MSc in Data Science, Universitat Oberta de Catalunya (UOC)\n",
        "\n",
        "**Joana Llauradó Pont**, Master Student  \n",
        "**Laia Carreté Muñoz**, Project Supervisor  \n",
        "Laia Subirats, Coordinator Professor\n",
        "\n",
        "---\n",
        "\n",
        "### SECTION 1: DEVELOP AND TEST ML MODELS\n",
        "Train different ML models to detect the likelihood of diabetes and compute evaluation metrics.\n",
        "\n",
        "---"
      ]
    },
    {
      "cell_type": "markdown",
      "metadata": {
        "id": "oJ5hkhoiM6Qq"
      },
      "source": [
        "#### **INIT WORKING ENVIORNMENT:**\n",
        "\n",
        " Connect to google drive and import the necessary libraries. Load the data."
      ]
    },
    {
      "cell_type": "code",
      "execution_count": 2,
      "metadata": {
        "colab": {
          "base_uri": "https://localhost:8080/"
        },
        "id": "T7veTnRmMf5A",
        "outputId": "eb873922-cb59-4873-8274-091b70e2716d"
      },
      "outputs": [
        {
          "output_type": "stream",
          "name": "stdout",
          "text": [
            "Mounted at /content/drive\n"
          ]
        }
      ],
      "source": [
        "# Connect to google drive\n",
        "from google.colab import drive\n",
        "drive.mount('/content/drive')"
      ]
    },
    {
      "cell_type": "code",
      "execution_count": 3,
      "metadata": {
        "colab": {
          "base_uri": "https://localhost:8080/"
        },
        "collapsed": true,
        "id": "TwVO6GK0If0j",
        "outputId": "eecbbf17-26a6-4e2e-e7c7-438d4793a40e"
      },
      "outputs": [
        {
          "output_type": "stream",
          "name": "stdout",
          "text": [
            "\r0% [Working]\r            \rGet:1 https://cloud.r-project.org/bin/linux/ubuntu jammy-cran40/ InRelease [3,626 B]\n",
            "Get:2 https://developer.download.nvidia.com/compute/cuda/repos/ubuntu2204/x86_64  InRelease [1,581 B]\n",
            "Get:3 https://developer.download.nvidia.com/compute/cuda/repos/ubuntu2204/x86_64  Packages [1,196 kB]\n",
            "Get:4 http://security.ubuntu.com/ubuntu jammy-security InRelease [129 kB]\n",
            "Get:5 https://r2u.stat.illinois.edu/ubuntu jammy InRelease [6,555 B]\n",
            "Hit:6 http://archive.ubuntu.com/ubuntu jammy InRelease\n",
            "Get:7 https://r2u.stat.illinois.edu/ubuntu jammy/main all Packages [8,555 kB]\n",
            "Get:8 http://archive.ubuntu.com/ubuntu jammy-updates InRelease [128 kB]\n",
            "Hit:9 https://ppa.launchpadcontent.net/deadsnakes/ppa/ubuntu jammy InRelease\n",
            "Get:10 http://security.ubuntu.com/ubuntu jammy-security/main amd64 Packages [2,517 kB]\n",
            "Get:11 https://ppa.launchpadcontent.net/graphics-drivers/ppa/ubuntu jammy InRelease [24.3 kB]\n",
            "Get:12 http://archive.ubuntu.com/ubuntu jammy-backports InRelease [127 kB]\n",
            "Get:13 https://r2u.stat.illinois.edu/ubuntu jammy/main amd64 Packages [2,628 kB]\n",
            "Hit:14 https://ppa.launchpadcontent.net/ubuntugis/ppa/ubuntu jammy InRelease\n",
            "Get:15 http://archive.ubuntu.com/ubuntu jammy-updates/universe amd64 Packages [1,517 kB]\n",
            "Get:16 https://ppa.launchpadcontent.net/graphics-drivers/ppa/ubuntu jammy/main amd64 Packages [53.4 kB]\n",
            "Get:17 http://security.ubuntu.com/ubuntu jammy-security/universe amd64 Packages [1,226 kB]\n",
            "Get:18 http://security.ubuntu.com/ubuntu jammy-security/restricted amd64 Packages [3,448 kB]\n",
            "Get:19 http://archive.ubuntu.com/ubuntu jammy-updates/restricted amd64 Packages [3,614 kB]\n",
            "Get:20 http://archive.ubuntu.com/ubuntu jammy-updates/main amd64 Packages [2,830 kB]\n",
            "Get:21 http://archive.ubuntu.com/ubuntu jammy-backports/universe amd64 Packages [33.8 kB]\n",
            "Get:22 http://archive.ubuntu.com/ubuntu jammy-backports/main amd64 Packages [81.4 kB]\n",
            "Fetched 28.1 MB in 3s (9,364 kB/s)\n",
            "Reading package lists... Done\n",
            "W: Skipping acquire of configured file 'main/source/Sources' as repository 'https://r2u.stat.illinois.edu/ubuntu jammy InRelease' does not seem to provide it (sources.list entry misspelt?)\n",
            "Reading package lists... Done\n",
            "Building dependency tree... Done\n",
            "Reading state information... Done\n",
            "The following additional packages will be installed:\n",
            "  cuda-cccl-11-8 cuda-command-line-tools-11-8 cuda-compiler-11-8 cuda-cudart-11-8\n",
            "  cuda-cudart-dev-11-8 cuda-cuobjdump-11-8 cuda-cupti-11-8 cuda-cupti-dev-11-8 cuda-cuxxfilt-11-8\n",
            "  cuda-documentation-11-8 cuda-driver-dev-11-8 cuda-gdb-11-8 cuda-libraries-11-8\n",
            "  cuda-libraries-dev-11-8 cuda-memcheck-11-8 cuda-nsight-11-8 cuda-nsight-compute-11-8\n",
            "  cuda-nsight-systems-11-8 cuda-nvcc-11-8 cuda-nvdisasm-11-8 cuda-nvml-dev-11-8 cuda-nvprof-11-8\n",
            "  cuda-nvprune-11-8 cuda-nvrtc-11-8 cuda-nvrtc-dev-11-8 cuda-nvtx-11-8 cuda-nvvp-11-8\n",
            "  cuda-profiler-api-11-8 cuda-sanitizer-11-8 cuda-toolkit-11-8-config-common\n",
            "  cuda-toolkit-11-config-common cuda-tools-11-8 cuda-visual-tools-11-8 default-jre\n",
            "  default-jre-headless fonts-dejavu-core fonts-dejavu-extra gds-tools-11-8 libatk-wrapper-java\n",
            "  libatk-wrapper-java-jni libcublas-11-8 libcublas-dev-11-8 libcufft-11-8 libcufft-dev-11-8\n",
            "  libcufile-11-8 libcufile-dev-11-8 libcurand-11-8 libcurand-dev-11-8 libcusolver-11-8\n",
            "  libcusolver-dev-11-8 libcusparse-11-8 libcusparse-dev-11-8 libfontenc1 libnpp-11-8\n",
            "  libnpp-dev-11-8 libnvjpeg-11-8 libnvjpeg-dev-11-8 libtinfo5 libxcb-icccm4 libxcb-image0\n",
            "  libxcb-keysyms1 libxcb-render-util0 libxcb-util1 libxcb-xinerama0 libxcb-xinput0 libxcb-xkb1\n",
            "  libxkbcommon-x11-0 libxkbfile1 libxtst6 libxxf86dga1 nsight-compute-2022.3.0\n",
            "  nsight-systems-2022.4.2 openjdk-11-jre x11-utils\n",
            "Suggested packages:\n",
            "  mesa-utils\n",
            "The following NEW packages will be installed:\n",
            "  cuda-cccl-11-8 cuda-command-line-tools-11-8 cuda-compiler-11-8 cuda-cudart-11-8\n",
            "  cuda-cudart-dev-11-8 cuda-cuobjdump-11-8 cuda-cupti-11-8 cuda-cupti-dev-11-8 cuda-cuxxfilt-11-8\n",
            "  cuda-documentation-11-8 cuda-driver-dev-11-8 cuda-gdb-11-8 cuda-libraries-11-8\n",
            "  cuda-libraries-dev-11-8 cuda-memcheck-11-8 cuda-nsight-11-8 cuda-nsight-compute-11-8\n",
            "  cuda-nsight-systems-11-8 cuda-nvcc-11-8 cuda-nvdisasm-11-8 cuda-nvml-dev-11-8 cuda-nvprof-11-8\n",
            "  cuda-nvprune-11-8 cuda-nvrtc-11-8 cuda-nvrtc-dev-11-8 cuda-nvtx-11-8 cuda-nvvp-11-8\n",
            "  cuda-profiler-api-11-8 cuda-sanitizer-11-8 cuda-toolkit-11-8 cuda-toolkit-11-8-config-common\n",
            "  cuda-toolkit-11-config-common cuda-tools-11-8 cuda-visual-tools-11-8 default-jre\n",
            "  default-jre-headless fonts-dejavu-core fonts-dejavu-extra gds-tools-11-8 libatk-wrapper-java\n",
            "  libatk-wrapper-java-jni libcublas-11-8 libcublas-dev-11-8 libcufft-11-8 libcufft-dev-11-8\n",
            "  libcufile-11-8 libcufile-dev-11-8 libcurand-11-8 libcurand-dev-11-8 libcusolver-11-8\n",
            "  libcusolver-dev-11-8 libcusparse-11-8 libcusparse-dev-11-8 libfontenc1 libnpp-11-8\n",
            "  libnpp-dev-11-8 libnvjpeg-11-8 libnvjpeg-dev-11-8 libtinfo5 libxcb-icccm4 libxcb-image0\n",
            "  libxcb-keysyms1 libxcb-render-util0 libxcb-util1 libxcb-xinerama0 libxcb-xinput0 libxcb-xkb1\n",
            "  libxkbcommon-x11-0 libxkbfile1 libxtst6 libxxf86dga1 nsight-compute-2022.3.0\n",
            "  nsight-systems-2022.4.2 openjdk-11-jre x11-utils\n",
            "0 upgraded, 75 newly installed, 0 to remove and 54 not upgraded.\n",
            "Need to get 2,715 MB of archives.\n",
            "After this operation, 6,662 MB of additional disk space will be used.\n",
            "Get:1 https://developer.download.nvidia.com/compute/cuda/repos/ubuntu2204/x86_64  cuda-cccl-11-8 11.8.89-1 [1,040 kB]\n",
            "Get:2 https://developer.download.nvidia.com/compute/cuda/repos/ubuntu2204/x86_64  cuda-cupti-11-8 11.8.87-1 [15.4 MB]\n",
            "Get:3 http://archive.ubuntu.com/ubuntu jammy/main amd64 default-jre-headless amd64 2:1.11-72build2 [3,042 B]\n",
            "Get:4 https://developer.download.nvidia.com/compute/cuda/repos/ubuntu2204/x86_64  cuda-cupti-dev-11-8 11.8.87-1 [2,552 kB]\n",
            "Get:5 https://developer.download.nvidia.com/compute/cuda/repos/ubuntu2204/x86_64  cuda-nvdisasm-11-8 11.8.86-1 [50.8 MB]\n",
            "Get:6 http://archive.ubuntu.com/ubuntu jammy/main amd64 libxtst6 amd64 2:1.2.3-1build4 [13.4 kB]\n",
            "Get:7 http://archive.ubuntu.com/ubuntu jammy-updates/main amd64 openjdk-11-jre amd64 11.0.25+9-1ubuntu1~22.04 [216 kB]\n",
            "Get:8 https://developer.download.nvidia.com/compute/cuda/repos/ubuntu2204/x86_64  cuda-cuobjdump-11-8 11.8.86-1 [165 kB]\n",
            "Get:9 https://developer.download.nvidia.com/compute/cuda/repos/ubuntu2204/x86_64  cuda-gdb-11-8 11.8.86-1 [4,138 kB]\n",
            "Get:10 https://developer.download.nvidia.com/compute/cuda/repos/ubuntu2204/x86_64  cuda-memcheck-11-8 11.8.86-1 [142 kB]\n",
            "Get:11 https://developer.download.nvidia.com/compute/cuda/repos/ubuntu2204/x86_64  cuda-nvprof-11-8 11.8.87-1 [1,959 kB]\n",
            "Get:12 https://developer.download.nvidia.com/compute/cuda/repos/ubuntu2204/x86_64  cuda-nvtx-11-8 11.8.86-1 [51.3 kB]\n",
            "Get:13 https://developer.download.nvidia.com/compute/cuda/repos/ubuntu2204/x86_64  cuda-sanitizer-11-8 11.8.86-1 [8,784 kB]\n",
            "Get:14 https://developer.download.nvidia.com/compute/cuda/repos/ubuntu2204/x86_64  cuda-command-line-tools-11-8 11.8.0-1 [2,472 B]\n",
            "Get:15 https://developer.download.nvidia.com/compute/cuda/repos/ubuntu2204/x86_64  cuda-cuxxfilt-11-8 11.8.86-1 [189 kB]\n",
            "Get:16 https://developer.download.nvidia.com/compute/cuda/repos/ubuntu2204/x86_64  cuda-toolkit-11-config-common 11.8.89-1 [16.4 kB]\n",
            "Get:17 https://developer.download.nvidia.com/compute/cuda/repos/ubuntu2204/x86_64  cuda-toolkit-11-8-config-common 11.8.89-1 [16.3 kB]\n",
            "Get:18 https://developer.download.nvidia.com/compute/cuda/repos/ubuntu2204/x86_64  cuda-cudart-11-8 11.8.89-1 [165 kB]\n",
            "Get:19 https://developer.download.nvidia.com/compute/cuda/repos/ubuntu2204/x86_64  cuda-driver-dev-11-8 11.8.89-1 [27.3 kB]\n",
            "Get:20 https://developer.download.nvidia.com/compute/cuda/repos/ubuntu2204/x86_64  cuda-cudart-dev-11-8 11.8.89-1 [820 kB]\n",
            "Get:21 https://developer.download.nvidia.com/compute/cuda/repos/ubuntu2204/x86_64  cuda-nvcc-11-8 11.8.89-1 [43.5 MB]\n",
            "Get:22 http://archive.ubuntu.com/ubuntu jammy/main amd64 default-jre amd64 2:1.11-72build2 [896 B]\n",
            "Get:23 http://archive.ubuntu.com/ubuntu jammy-updates/universe amd64 libtinfo5 amd64 6.3-2ubuntu0.1 [100 kB]\n",
            "Get:24 http://archive.ubuntu.com/ubuntu jammy/main amd64 libxcb-xinerama0 amd64 1.14-3ubuntu3 [5,414 B]\n",
            "Get:25 http://archive.ubuntu.com/ubuntu jammy/main amd64 libxcb-icccm4 amd64 0.4.1-1.1build2 [11.5 kB]\n",
            "Get:26 http://archive.ubuntu.com/ubuntu jammy/main amd64 libxcb-util1 amd64 0.4.0-1build2 [11.4 kB]\n",
            "Get:27 http://archive.ubuntu.com/ubuntu jammy/main amd64 libxcb-image0 amd64 0.4.0-2 [11.5 kB]\n",
            "Get:28 http://archive.ubuntu.com/ubuntu jammy/main amd64 libxcb-keysyms1 amd64 0.4.0-1build3 [8,746 B]\n",
            "Get:29 http://archive.ubuntu.com/ubuntu jammy/main amd64 libxcb-render-util0 amd64 0.3.9-1build3 [10.3 kB]\n",
            "Get:30 http://archive.ubuntu.com/ubuntu jammy/main amd64 libxcb-xkb1 amd64 1.14-3ubuntu3 [32.8 kB]\n",
            "Get:31 http://archive.ubuntu.com/ubuntu jammy/main amd64 libxkbcommon-x11-0 amd64 1.4.0-1 [14.4 kB]\n",
            "Get:32 http://archive.ubuntu.com/ubuntu jammy/main amd64 libxcb-xinput0 amd64 1.14-3ubuntu3 [34.3 kB]\n",
            "Get:33 http://archive.ubuntu.com/ubuntu jammy/main amd64 fonts-dejavu-core all 2.37-2build1 [1,041 kB]\n",
            "Get:34 https://developer.download.nvidia.com/compute/cuda/repos/ubuntu2204/x86_64  cuda-nvprune-11-8 11.8.86-1 [58.1 kB]\n",
            "Get:35 https://developer.download.nvidia.com/compute/cuda/repos/ubuntu2204/x86_64  cuda-compiler-11-8 11.8.0-1 [2,432 B]\n",
            "Get:36 https://developer.download.nvidia.com/compute/cuda/repos/ubuntu2204/x86_64  cuda-documentation-11-8 11.8.86-1 [49.8 kB]\n",
            "Get:37 https://developer.download.nvidia.com/compute/cuda/repos/ubuntu2204/x86_64  cuda-nvrtc-11-8 11.8.89-1 [16.4 MB]\n",
            "Get:38 http://archive.ubuntu.com/ubuntu jammy/main amd64 fonts-dejavu-extra all 2.37-2build1 [2,041 kB]\n",
            "Get:39 https://developer.download.nvidia.com/compute/cuda/repos/ubuntu2204/x86_64  libcublas-11-8 11.11.3.6-1 [248 MB]\n",
            "Get:40 http://archive.ubuntu.com/ubuntu jammy/main amd64 libfontenc1 amd64 1:1.1.4-1build3 [14.7 kB]\n",
            "Get:41 http://archive.ubuntu.com/ubuntu jammy/main amd64 libxkbfile1 amd64 1:1.1.0-1build3 [71.8 kB]\n",
            "Get:42 http://archive.ubuntu.com/ubuntu jammy/main amd64 libxxf86dga1 amd64 2:1.1.5-0ubuntu3 [12.6 kB]\n",
            "Get:43 http://archive.ubuntu.com/ubuntu jammy/main amd64 x11-utils amd64 7.7+5build2 [206 kB]\n",
            "Get:44 http://archive.ubuntu.com/ubuntu jammy/main amd64 libatk-wrapper-java all 0.38.0-5build1 [53.1 kB]\n",
            "Get:45 http://archive.ubuntu.com/ubuntu jammy/main amd64 libatk-wrapper-java-jni amd64 0.38.0-5build1 [49.0 kB]\n",
            "Get:46 https://developer.download.nvidia.com/compute/cuda/repos/ubuntu2204/x86_64  libcufft-11-8 10.9.0.58-1 [94.2 MB]\n",
            "Get:47 https://developer.download.nvidia.com/compute/cuda/repos/ubuntu2204/x86_64  libcufile-11-8 1.4.0.31-1 [474 kB]\n",
            "Get:48 https://developer.download.nvidia.com/compute/cuda/repos/ubuntu2204/x86_64  libcurand-11-8 10.3.0.86-1 [42.2 MB]\n",
            "Get:49 https://developer.download.nvidia.com/compute/cuda/repos/ubuntu2204/x86_64  libcusolver-11-8 11.4.1.48-1 [52.3 MB]\n",
            "Get:50 https://developer.download.nvidia.com/compute/cuda/repos/ubuntu2204/x86_64  libcusparse-11-8 11.7.5.86-1 [116 MB]\n",
            "Get:51 https://developer.download.nvidia.com/compute/cuda/repos/ubuntu2204/x86_64  libnpp-11-8 11.8.0.86-1 [102 MB]\n",
            "Get:52 https://developer.download.nvidia.com/compute/cuda/repos/ubuntu2204/x86_64  libnvjpeg-11-8 11.9.0.86-1 [1,865 kB]\n",
            "Get:53 https://developer.download.nvidia.com/compute/cuda/repos/ubuntu2204/x86_64  cuda-libraries-11-8 11.8.0-1 [2,518 B]\n",
            "Get:54 https://developer.download.nvidia.com/compute/cuda/repos/ubuntu2204/x86_64  cuda-profiler-api-11-8 11.8.86-1 [18.5 kB]\n",
            "Get:55 https://developer.download.nvidia.com/compute/cuda/repos/ubuntu2204/x86_64  cuda-nvrtc-dev-11-8 11.8.89-1 [13.5 MB]\n",
            "Get:56 https://developer.download.nvidia.com/compute/cuda/repos/ubuntu2204/x86_64  libcublas-dev-11-8 11.11.3.6-1 [269 MB]\n",
            "Get:57 https://developer.download.nvidia.com/compute/cuda/repos/ubuntu2204/x86_64  libcufft-dev-11-8 10.9.0.58-1 [189 MB]\n",
            "Get:58 https://developer.download.nvidia.com/compute/cuda/repos/ubuntu2204/x86_64  libcufile-dev-11-8 1.4.0.31-1 [1,062 kB]\n",
            "Get:59 https://developer.download.nvidia.com/compute/cuda/repos/ubuntu2204/x86_64  libcurand-dev-11-8 10.3.0.86-1 [42.9 MB]\n",
            "Get:60 https://developer.download.nvidia.com/compute/cuda/repos/ubuntu2204/x86_64  libcusolver-dev-11-8 11.4.1.48-1 [35.7 MB]\n",
            "Get:61 https://developer.download.nvidia.com/compute/cuda/repos/ubuntu2204/x86_64  libcusparse-dev-11-8 11.7.5.86-1 [116 MB]\n",
            "Get:62 https://developer.download.nvidia.com/compute/cuda/repos/ubuntu2204/x86_64  libnpp-dev-11-8 11.8.0.86-1 [100 MB]\n",
            "Get:63 https://developer.download.nvidia.com/compute/cuda/repos/ubuntu2204/x86_64  libnvjpeg-dev-11-8 11.9.0.86-1 [1,536 kB]\n",
            "Get:64 https://developer.download.nvidia.com/compute/cuda/repos/ubuntu2204/x86_64  cuda-libraries-dev-11-8 11.8.0-1 [2,554 B]\n",
            "Get:65 https://developer.download.nvidia.com/compute/cuda/repos/ubuntu2204/x86_64  cuda-nsight-11-8 11.8.86-1 [119 MB]\n",
            "Get:66 https://developer.download.nvidia.com/compute/cuda/repos/ubuntu2204/x86_64  nsight-compute-2022.3.0 2022.3.0.22-1 [580 MB]\n",
            "Get:67 https://developer.download.nvidia.com/compute/cuda/repos/ubuntu2204/x86_64  cuda-nsight-compute-11-8 11.8.0-1 [3,790 B]\n",
            "Get:68 https://developer.download.nvidia.com/compute/cuda/repos/ubuntu2204/x86_64  nsight-systems-2022.4.2 2022.4.2.50-32196742v0 [286 MB]\n",
            "Get:69 https://developer.download.nvidia.com/compute/cuda/repos/ubuntu2204/x86_64  cuda-nsight-systems-11-8 11.8.0-1 [3,310 B]\n",
            "Get:70 https://developer.download.nvidia.com/compute/cuda/repos/ubuntu2204/x86_64  cuda-nvml-dev-11-8 11.8.86-1 [81.4 kB]\n",
            "Get:71 https://developer.download.nvidia.com/compute/cuda/repos/ubuntu2204/x86_64  cuda-nvvp-11-8 11.8.87-1 [114 MB]\n",
            "Get:72 https://developer.download.nvidia.com/compute/cuda/repos/ubuntu2204/x86_64  cuda-visual-tools-11-8 11.8.0-1 [2,870 B]\n",
            "Get:73 https://developer.download.nvidia.com/compute/cuda/repos/ubuntu2204/x86_64  gds-tools-11-8 1.4.0.31-1 [38.7 MB]\n",
            "Get:74 https://developer.download.nvidia.com/compute/cuda/repos/ubuntu2204/x86_64  cuda-tools-11-8 11.8.0-1 [2,390 B]\n",
            "Get:75 https://developer.download.nvidia.com/compute/cuda/repos/ubuntu2204/x86_64  cuda-toolkit-11-8 11.8.0-1 [3,374 B]\n",
            "Fetched 2,715 MB in 38s (72.4 MB/s)\n",
            "Extracting templates from packages: 100%\n",
            "Selecting previously unselected package cuda-cccl-11-8.\n",
            "(Reading database ... 123634 files and directories currently installed.)\n",
            "Preparing to unpack .../00-cuda-cccl-11-8_11.8.89-1_amd64.deb ...\n",
            "Unpacking cuda-cccl-11-8 (11.8.89-1) ...\n",
            "Selecting previously unselected package cuda-cupti-11-8.\n",
            "Preparing to unpack .../01-cuda-cupti-11-8_11.8.87-1_amd64.deb ...\n",
            "Unpacking cuda-cupti-11-8 (11.8.87-1) ...\n",
            "Selecting previously unselected package cuda-cupti-dev-11-8.\n",
            "Preparing to unpack .../02-cuda-cupti-dev-11-8_11.8.87-1_amd64.deb ...\n",
            "Unpacking cuda-cupti-dev-11-8 (11.8.87-1) ...\n",
            "Selecting previously unselected package cuda-nvdisasm-11-8.\n",
            "Preparing to unpack .../03-cuda-nvdisasm-11-8_11.8.86-1_amd64.deb ...\n",
            "Unpacking cuda-nvdisasm-11-8 (11.8.86-1) ...\n",
            "Selecting previously unselected package cuda-cuobjdump-11-8.\n",
            "Preparing to unpack .../04-cuda-cuobjdump-11-8_11.8.86-1_amd64.deb ...\n",
            "Unpacking cuda-cuobjdump-11-8 (11.8.86-1) ...\n",
            "Selecting previously unselected package cuda-gdb-11-8.\n",
            "Preparing to unpack .../05-cuda-gdb-11-8_11.8.86-1_amd64.deb ...\n",
            "Unpacking cuda-gdb-11-8 (11.8.86-1) ...\n",
            "Selecting previously unselected package cuda-memcheck-11-8.\n",
            "Preparing to unpack .../06-cuda-memcheck-11-8_11.8.86-1_amd64.deb ...\n",
            "Unpacking cuda-memcheck-11-8 (11.8.86-1) ...\n",
            "Selecting previously unselected package cuda-nvprof-11-8.\n",
            "Preparing to unpack .../07-cuda-nvprof-11-8_11.8.87-1_amd64.deb ...\n",
            "Unpacking cuda-nvprof-11-8 (11.8.87-1) ...\n",
            "Selecting previously unselected package cuda-nvtx-11-8.\n",
            "Preparing to unpack .../08-cuda-nvtx-11-8_11.8.86-1_amd64.deb ...\n",
            "Unpacking cuda-nvtx-11-8 (11.8.86-1) ...\n",
            "Selecting previously unselected package cuda-sanitizer-11-8.\n",
            "Preparing to unpack .../09-cuda-sanitizer-11-8_11.8.86-1_amd64.deb ...\n",
            "Unpacking cuda-sanitizer-11-8 (11.8.86-1) ...\n",
            "Selecting previously unselected package cuda-command-line-tools-11-8.\n",
            "Preparing to unpack .../10-cuda-command-line-tools-11-8_11.8.0-1_amd64.deb ...\n",
            "Unpacking cuda-command-line-tools-11-8 (11.8.0-1) ...\n",
            "Selecting previously unselected package cuda-cuxxfilt-11-8.\n",
            "Preparing to unpack .../11-cuda-cuxxfilt-11-8_11.8.86-1_amd64.deb ...\n",
            "Unpacking cuda-cuxxfilt-11-8 (11.8.86-1) ...\n",
            "Selecting previously unselected package cuda-toolkit-11-config-common.\n",
            "Preparing to unpack .../12-cuda-toolkit-11-config-common_11.8.89-1_all.deb ...\n",
            "Unpacking cuda-toolkit-11-config-common (11.8.89-1) ...\n",
            "Selecting previously unselected package cuda-toolkit-11-8-config-common.\n",
            "Preparing to unpack .../13-cuda-toolkit-11-8-config-common_11.8.89-1_all.deb ...\n",
            "Unpacking cuda-toolkit-11-8-config-common (11.8.89-1) ...\n",
            "Selecting previously unselected package cuda-cudart-11-8.\n",
            "Preparing to unpack .../14-cuda-cudart-11-8_11.8.89-1_amd64.deb ...\n",
            "Unpacking cuda-cudart-11-8 (11.8.89-1) ...\n",
            "Selecting previously unselected package cuda-driver-dev-11-8.\n",
            "Preparing to unpack .../15-cuda-driver-dev-11-8_11.8.89-1_amd64.deb ...\n",
            "Unpacking cuda-driver-dev-11-8 (11.8.89-1) ...\n",
            "Selecting previously unselected package cuda-cudart-dev-11-8.\n",
            "Preparing to unpack .../16-cuda-cudart-dev-11-8_11.8.89-1_amd64.deb ...\n",
            "Unpacking cuda-cudart-dev-11-8 (11.8.89-1) ...\n",
            "Selecting previously unselected package cuda-nvcc-11-8.\n",
            "Preparing to unpack .../17-cuda-nvcc-11-8_11.8.89-1_amd64.deb ...\n",
            "Unpacking cuda-nvcc-11-8 (11.8.89-1) ...\n",
            "Selecting previously unselected package cuda-nvprune-11-8.\n",
            "Preparing to unpack .../18-cuda-nvprune-11-8_11.8.86-1_amd64.deb ...\n",
            "Unpacking cuda-nvprune-11-8 (11.8.86-1) ...\n",
            "Selecting previously unselected package cuda-compiler-11-8.\n",
            "Preparing to unpack .../19-cuda-compiler-11-8_11.8.0-1_amd64.deb ...\n",
            "Unpacking cuda-compiler-11-8 (11.8.0-1) ...\n",
            "Selecting previously unselected package cuda-documentation-11-8.\n",
            "Preparing to unpack .../20-cuda-documentation-11-8_11.8.86-1_amd64.deb ...\n",
            "Unpacking cuda-documentation-11-8 (11.8.86-1) ...\n",
            "Selecting previously unselected package cuda-nvrtc-11-8.\n",
            "Preparing to unpack .../21-cuda-nvrtc-11-8_11.8.89-1_amd64.deb ...\n",
            "Unpacking cuda-nvrtc-11-8 (11.8.89-1) ...\n",
            "Selecting previously unselected package libcublas-11-8.\n",
            "Preparing to unpack .../22-libcublas-11-8_11.11.3.6-1_amd64.deb ...\n",
            "Unpacking libcublas-11-8 (11.11.3.6-1) ...\n",
            "Selecting previously unselected package libcufft-11-8.\n",
            "Preparing to unpack .../23-libcufft-11-8_10.9.0.58-1_amd64.deb ...\n",
            "Unpacking libcufft-11-8 (10.9.0.58-1) ...\n",
            "Selecting previously unselected package libcufile-11-8.\n",
            "Preparing to unpack .../24-libcufile-11-8_1.4.0.31-1_amd64.deb ...\n",
            "Unpacking libcufile-11-8 (1.4.0.31-1) ...\n",
            "Selecting previously unselected package libcurand-11-8.\n",
            "Preparing to unpack .../25-libcurand-11-8_10.3.0.86-1_amd64.deb ...\n",
            "Unpacking libcurand-11-8 (10.3.0.86-1) ...\n",
            "Selecting previously unselected package libcusolver-11-8.\n",
            "Preparing to unpack .../26-libcusolver-11-8_11.4.1.48-1_amd64.deb ...\n",
            "Unpacking libcusolver-11-8 (11.4.1.48-1) ...\n",
            "Selecting previously unselected package libcusparse-11-8.\n",
            "Preparing to unpack .../27-libcusparse-11-8_11.7.5.86-1_amd64.deb ...\n",
            "Unpacking libcusparse-11-8 (11.7.5.86-1) ...\n",
            "Selecting previously unselected package libnpp-11-8.\n",
            "Preparing to unpack .../28-libnpp-11-8_11.8.0.86-1_amd64.deb ...\n",
            "Unpacking libnpp-11-8 (11.8.0.86-1) ...\n",
            "Selecting previously unselected package libnvjpeg-11-8.\n",
            "Preparing to unpack .../29-libnvjpeg-11-8_11.9.0.86-1_amd64.deb ...\n",
            "Unpacking libnvjpeg-11-8 (11.9.0.86-1) ...\n",
            "Selecting previously unselected package cuda-libraries-11-8.\n",
            "Preparing to unpack .../30-cuda-libraries-11-8_11.8.0-1_amd64.deb ...\n",
            "Unpacking cuda-libraries-11-8 (11.8.0-1) ...\n",
            "Selecting previously unselected package cuda-profiler-api-11-8.\n",
            "Preparing to unpack .../31-cuda-profiler-api-11-8_11.8.86-1_amd64.deb ...\n",
            "Unpacking cuda-profiler-api-11-8 (11.8.86-1) ...\n",
            "Selecting previously unselected package cuda-nvrtc-dev-11-8.\n",
            "Preparing to unpack .../32-cuda-nvrtc-dev-11-8_11.8.89-1_amd64.deb ...\n",
            "Unpacking cuda-nvrtc-dev-11-8 (11.8.89-1) ...\n",
            "Selecting previously unselected package libcublas-dev-11-8.\n",
            "Preparing to unpack .../33-libcublas-dev-11-8_11.11.3.6-1_amd64.deb ...\n",
            "Unpacking libcublas-dev-11-8 (11.11.3.6-1) ...\n",
            "Selecting previously unselected package libcufft-dev-11-8.\n",
            "Preparing to unpack .../34-libcufft-dev-11-8_10.9.0.58-1_amd64.deb ...\n",
            "Unpacking libcufft-dev-11-8 (10.9.0.58-1) ...\n",
            "Selecting previously unselected package libcufile-dev-11-8.\n",
            "Preparing to unpack .../35-libcufile-dev-11-8_1.4.0.31-1_amd64.deb ...\n",
            "Unpacking libcufile-dev-11-8 (1.4.0.31-1) ...\n",
            "Selecting previously unselected package libcurand-dev-11-8.\n",
            "Preparing to unpack .../36-libcurand-dev-11-8_10.3.0.86-1_amd64.deb ...\n",
            "Unpacking libcurand-dev-11-8 (10.3.0.86-1) ...\n",
            "Selecting previously unselected package libcusolver-dev-11-8.\n",
            "Preparing to unpack .../37-libcusolver-dev-11-8_11.4.1.48-1_amd64.deb ...\n",
            "Unpacking libcusolver-dev-11-8 (11.4.1.48-1) ...\n",
            "Selecting previously unselected package libcusparse-dev-11-8.\n",
            "Preparing to unpack .../38-libcusparse-dev-11-8_11.7.5.86-1_amd64.deb ...\n",
            "Unpacking libcusparse-dev-11-8 (11.7.5.86-1) ...\n",
            "Selecting previously unselected package libnpp-dev-11-8.\n",
            "Preparing to unpack .../39-libnpp-dev-11-8_11.8.0.86-1_amd64.deb ...\n",
            "Unpacking libnpp-dev-11-8 (11.8.0.86-1) ...\n",
            "Selecting previously unselected package libnvjpeg-dev-11-8.\n",
            "Preparing to unpack .../40-libnvjpeg-dev-11-8_11.9.0.86-1_amd64.deb ...\n",
            "Unpacking libnvjpeg-dev-11-8 (11.9.0.86-1) ...\n",
            "Selecting previously unselected package cuda-libraries-dev-11-8.\n",
            "Preparing to unpack .../41-cuda-libraries-dev-11-8_11.8.0-1_amd64.deb ...\n",
            "Unpacking cuda-libraries-dev-11-8 (11.8.0-1) ...\n",
            "Selecting previously unselected package default-jre-headless.\n",
            "Preparing to unpack .../42-default-jre-headless_2%3a1.11-72build2_amd64.deb ...\n",
            "Unpacking default-jre-headless (2:1.11-72build2) ...\n",
            "Selecting previously unselected package libxtst6:amd64.\n",
            "Preparing to unpack .../43-libxtst6_2%3a1.2.3-1build4_amd64.deb ...\n",
            "Unpacking libxtst6:amd64 (2:1.2.3-1build4) ...\n",
            "Selecting previously unselected package openjdk-11-jre:amd64.\n",
            "Preparing to unpack .../44-openjdk-11-jre_11.0.25+9-1ubuntu1~22.04_amd64.deb ...\n",
            "Unpacking openjdk-11-jre:amd64 (11.0.25+9-1ubuntu1~22.04) ...\n",
            "Selecting previously unselected package default-jre.\n",
            "Preparing to unpack .../45-default-jre_2%3a1.11-72build2_amd64.deb ...\n",
            "Unpacking default-jre (2:1.11-72build2) ...\n",
            "Selecting previously unselected package cuda-nsight-11-8.\n",
            "Preparing to unpack .../46-cuda-nsight-11-8_11.8.86-1_amd64.deb ...\n",
            "Unpacking cuda-nsight-11-8 (11.8.86-1) ...\n",
            "Selecting previously unselected package nsight-compute-2022.3.0.\n",
            "Preparing to unpack .../47-nsight-compute-2022.3.0_2022.3.0.22-1_amd64.deb ...\n",
            "Unpacking nsight-compute-2022.3.0 (2022.3.0.22-1) ...\n",
            "Selecting previously unselected package cuda-nsight-compute-11-8.\n",
            "Preparing to unpack .../48-cuda-nsight-compute-11-8_11.8.0-1_amd64.deb ...\n",
            "Unpacking cuda-nsight-compute-11-8 (11.8.0-1) ...\n",
            "Selecting previously unselected package libtinfo5:amd64.\n",
            "Preparing to unpack .../49-libtinfo5_6.3-2ubuntu0.1_amd64.deb ...\n",
            "Unpacking libtinfo5:amd64 (6.3-2ubuntu0.1) ...\n",
            "Selecting previously unselected package libxcb-xinerama0:amd64.\n",
            "Preparing to unpack .../50-libxcb-xinerama0_1.14-3ubuntu3_amd64.deb ...\n",
            "Unpacking libxcb-xinerama0:amd64 (1.14-3ubuntu3) ...\n",
            "Selecting previously unselected package libxcb-icccm4:amd64.\n",
            "Preparing to unpack .../51-libxcb-icccm4_0.4.1-1.1build2_amd64.deb ...\n",
            "Unpacking libxcb-icccm4:amd64 (0.4.1-1.1build2) ...\n",
            "Selecting previously unselected package libxcb-util1:amd64.\n",
            "Preparing to unpack .../52-libxcb-util1_0.4.0-1build2_amd64.deb ...\n",
            "Unpacking libxcb-util1:amd64 (0.4.0-1build2) ...\n",
            "Selecting previously unselected package libxcb-image0:amd64.\n",
            "Preparing to unpack .../53-libxcb-image0_0.4.0-2_amd64.deb ...\n",
            "Unpacking libxcb-image0:amd64 (0.4.0-2) ...\n",
            "Selecting previously unselected package libxcb-keysyms1:amd64.\n",
            "Preparing to unpack .../54-libxcb-keysyms1_0.4.0-1build3_amd64.deb ...\n",
            "Unpacking libxcb-keysyms1:amd64 (0.4.0-1build3) ...\n",
            "Selecting previously unselected package libxcb-render-util0:amd64.\n",
            "Preparing to unpack .../55-libxcb-render-util0_0.3.9-1build3_amd64.deb ...\n",
            "Unpacking libxcb-render-util0:amd64 (0.3.9-1build3) ...\n",
            "Selecting previously unselected package libxcb-xkb1:amd64.\n",
            "Preparing to unpack .../56-libxcb-xkb1_1.14-3ubuntu3_amd64.deb ...\n",
            "Unpacking libxcb-xkb1:amd64 (1.14-3ubuntu3) ...\n",
            "Selecting previously unselected package libxkbcommon-x11-0:amd64.\n",
            "Preparing to unpack .../57-libxkbcommon-x11-0_1.4.0-1_amd64.deb ...\n",
            "Unpacking libxkbcommon-x11-0:amd64 (1.4.0-1) ...\n",
            "Selecting previously unselected package libxcb-xinput0:amd64.\n",
            "Preparing to unpack .../58-libxcb-xinput0_1.14-3ubuntu3_amd64.deb ...\n",
            "Unpacking libxcb-xinput0:amd64 (1.14-3ubuntu3) ...\n",
            "Selecting previously unselected package nsight-systems-2022.4.2.\n",
            "Preparing to unpack .../59-nsight-systems-2022.4.2_2022.4.2.50-32196742v0_amd64.deb ...\n",
            "Unpacking nsight-systems-2022.4.2 (2022.4.2.50-32196742v0) ...\n",
            "Selecting previously unselected package cuda-nsight-systems-11-8.\n",
            "Preparing to unpack .../60-cuda-nsight-systems-11-8_11.8.0-1_amd64.deb ...\n",
            "Unpacking cuda-nsight-systems-11-8 (11.8.0-1) ...\n",
            "Selecting previously unselected package cuda-nvml-dev-11-8.\n",
            "Preparing to unpack .../61-cuda-nvml-dev-11-8_11.8.86-1_amd64.deb ...\n",
            "Unpacking cuda-nvml-dev-11-8 (11.8.86-1) ...\n",
            "Selecting previously unselected package cuda-nvvp-11-8.\n",
            "Preparing to unpack .../62-cuda-nvvp-11-8_11.8.87-1_amd64.deb ...\n",
            "Unpacking cuda-nvvp-11-8 (11.8.87-1) ...\n",
            "Selecting previously unselected package cuda-visual-tools-11-8.\n",
            "Preparing to unpack .../63-cuda-visual-tools-11-8_11.8.0-1_amd64.deb ...\n",
            "Unpacking cuda-visual-tools-11-8 (11.8.0-1) ...\n",
            "Selecting previously unselected package gds-tools-11-8.\n",
            "Preparing to unpack .../64-gds-tools-11-8_1.4.0.31-1_amd64.deb ...\n",
            "Unpacking gds-tools-11-8 (1.4.0.31-1) ...\n",
            "Selecting previously unselected package cuda-tools-11-8.\n",
            "Preparing to unpack .../65-cuda-tools-11-8_11.8.0-1_amd64.deb ...\n",
            "Unpacking cuda-tools-11-8 (11.8.0-1) ...\n",
            "Selecting previously unselected package cuda-toolkit-11-8.\n",
            "Preparing to unpack .../66-cuda-toolkit-11-8_11.8.0-1_amd64.deb ...\n",
            "Unpacking cuda-toolkit-11-8 (11.8.0-1) ...\n",
            "Selecting previously unselected package fonts-dejavu-core.\n",
            "Preparing to unpack .../67-fonts-dejavu-core_2.37-2build1_all.deb ...\n",
            "Unpacking fonts-dejavu-core (2.37-2build1) ...\n",
            "Selecting previously unselected package fonts-dejavu-extra.\n",
            "Preparing to unpack .../68-fonts-dejavu-extra_2.37-2build1_all.deb ...\n",
            "Unpacking fonts-dejavu-extra (2.37-2build1) ...\n",
            "Selecting previously unselected package libfontenc1:amd64.\n",
            "Preparing to unpack .../69-libfontenc1_1%3a1.1.4-1build3_amd64.deb ...\n",
            "Unpacking libfontenc1:amd64 (1:1.1.4-1build3) ...\n",
            "Selecting previously unselected package libxkbfile1:amd64.\n",
            "Preparing to unpack .../70-libxkbfile1_1%3a1.1.0-1build3_amd64.deb ...\n",
            "Unpacking libxkbfile1:amd64 (1:1.1.0-1build3) ...\n",
            "Selecting previously unselected package libxxf86dga1:amd64.\n",
            "Preparing to unpack .../71-libxxf86dga1_2%3a1.1.5-0ubuntu3_amd64.deb ...\n",
            "Unpacking libxxf86dga1:amd64 (2:1.1.5-0ubuntu3) ...\n",
            "Selecting previously unselected package x11-utils.\n",
            "Preparing to unpack .../72-x11-utils_7.7+5build2_amd64.deb ...\n",
            "Unpacking x11-utils (7.7+5build2) ...\n",
            "Selecting previously unselected package libatk-wrapper-java.\n",
            "Preparing to unpack .../73-libatk-wrapper-java_0.38.0-5build1_all.deb ...\n",
            "Unpacking libatk-wrapper-java (0.38.0-5build1) ...\n",
            "Selecting previously unselected package libatk-wrapper-java-jni:amd64.\n",
            "Preparing to unpack .../74-libatk-wrapper-java-jni_0.38.0-5build1_amd64.deb ...\n",
            "Unpacking libatk-wrapper-java-jni:amd64 (0.38.0-5build1) ...\n",
            "Setting up cuda-nvml-dev-11-8 (11.8.86-1) ...\n",
            "Setting up default-jre-headless (2:1.11-72build2) ...\n",
            "Setting up cuda-toolkit-11-config-common (11.8.89-1) ...\n",
            "Setting up libxcb-xinput0:amd64 (1.14-3ubuntu3) ...\n",
            "Setting up cuda-cccl-11-8 (11.8.89-1) ...\n",
            "Setting up cuda-cuobjdump-11-8 (11.8.86-1) ...\n",
            "Setting up cuda-nvrtc-11-8 (11.8.89-1) ...\n",
            "Setting up cuda-sanitizer-11-8 (11.8.86-1) ...\n",
            "Setting up libxtst6:amd64 (2:1.2.3-1build4) ...\n",
            "Setting up cuda-cupti-11-8 (11.8.87-1) ...\n",
            "Setting up libxcb-keysyms1:amd64 (0.4.0-1build3) ...\n",
            "Setting up libxxf86dga1:amd64 (2:1.1.5-0ubuntu3) ...\n",
            "Setting up libxcb-render-util0:amd64 (0.3.9-1build3) ...\n",
            "Setting up openjdk-11-jre:amd64 (11.0.25+9-1ubuntu1~22.04) ...\n",
            "Setting up cuda-nvdisasm-11-8 (11.8.86-1) ...\n",
            "Setting up libxcb-icccm4:amd64 (0.4.1-1.1build2) ...\n",
            "Setting up default-jre (2:1.11-72build2) ...\n",
            "Setting up cuda-cuxxfilt-11-8 (11.8.86-1) ...\n",
            "Setting up libxcb-util1:amd64 (0.4.0-1build2) ...\n",
            "Setting up libxcb-xkb1:amd64 (1.14-3ubuntu3) ...\n",
            "Setting up libxcb-image0:amd64 (0.4.0-2) ...\n",
            "Setting up libfontenc1:amd64 (1:1.1.4-1build3) ...\n",
            "Setting up libxcb-xinerama0:amd64 (1.14-3ubuntu3) ...\n",
            "Setting up cuda-nvvp-11-8 (11.8.87-1) ...\n",
            "Setting up cuda-nvtx-11-8 (11.8.86-1) ...\n",
            "Setting up cuda-gdb-11-8 (11.8.86-1) ...\n",
            "Setting up cuda-toolkit-11-8-config-common (11.8.89-1) ...\n",
            "Setting alternatives\n",
            "update-alternatives: using /usr/local/cuda-11.8 to provide /usr/local/cuda-11 (cuda-11) in auto mode\n",
            "Setting up libxkbcommon-x11-0:amd64 (1.4.0-1) ...\n",
            "Setting up libcusolver-11-8 (11.4.1.48-1) ...\n",
            "Setting up cuda-nvrtc-dev-11-8 (11.8.89-1) ...\n",
            "Setting up fonts-dejavu-core (2.37-2build1) ...\n",
            "Setting up cuda-driver-dev-11-8 (11.8.89-1) ...\n",
            "Setting up cuda-memcheck-11-8 (11.8.86-1) ...\n",
            "Setting up fonts-dejavu-extra (2.37-2build1) ...\n",
            "Setting up gds-tools-11-8 (1.4.0.31-1) ...\n",
            "Setting up cuda-nsight-11-8 (11.8.86-1) ...\n",
            "Setting up cuda-profiler-api-11-8 (11.8.86-1) ...\n",
            "Setting up cuda-documentation-11-8 (11.8.86-1) ...\n",
            "Setting up libxkbfile1:amd64 (1:1.1.0-1build3) ...\n",
            "Setting up libtinfo5:amd64 (6.3-2ubuntu0.1) ...\n",
            "Setting up cuda-nvprune-11-8 (11.8.86-1) ...\n",
            "Setting up cuda-cudart-11-8 (11.8.89-1) ...\n",
            "Setting up libnvjpeg-11-8 (11.9.0.86-1) ...\n",
            "Setting up cuda-nvprof-11-8 (11.8.87-1) ...\n",
            "Setting up nsight-compute-2022.3.0 (2022.3.0.22-1) ...\n",
            "Setting up nsight-systems-2022.4.2 (2022.4.2.50-32196742v0) ...\n",
            "update-alternatives: using /opt/nvidia/nsight-systems/2022.4.2/target-linux-x64/nsys to provide /usr/local/bin/nsys (nsys) in auto mode\n",
            "update-alternatives: using /opt/nvidia/nsight-systems/2022.4.2/host-linux-x64/nsys-ui to provide /usr/local/bin/nsys-ui (nsys-ui) in auto mode\n",
            "Setting up libcusparse-11-8 (11.7.5.86-1) ...\n",
            "Setting up libcufft-11-8 (10.9.0.58-1) ...\n",
            "Setting up cuda-cupti-dev-11-8 (11.8.87-1) ...\n",
            "Setting up libcufft-dev-11-8 (10.9.0.58-1) ...\n",
            "Setting up cuda-cudart-dev-11-8 (11.8.89-1) ...\n",
            "Setting up libnpp-11-8 (11.8.0.86-1) ...\n",
            "Setting up libcusolver-dev-11-8 (11.4.1.48-1) ...\n",
            "Setting up cuda-nsight-systems-11-8 (11.8.0-1) ...\n",
            "Setting up cuda-command-line-tools-11-8 (11.8.0-1) ...\n",
            "Setting up libcusparse-dev-11-8 (11.7.5.86-1) ...\n",
            "Setting up libcurand-11-8 (10.3.0.86-1) ...\n",
            "Setting up libcufile-11-8 (1.4.0.31-1) ...\n",
            "Setting alternatives\n",
            "Setting up libcublas-11-8 (11.11.3.6-1) ...\n",
            "Setting up libnpp-dev-11-8 (11.8.0.86-1) ...\n",
            "Setting up cuda-libraries-11-8 (11.8.0-1) ...\n",
            "Setting up cuda-nsight-compute-11-8 (11.8.0-1) ...\n",
            "Setting up x11-utils (7.7+5build2) ...\n",
            "Setting up libnvjpeg-dev-11-8 (11.9.0.86-1) ...\n",
            "Setting up libatk-wrapper-java (0.38.0-5build1) ...\n",
            "Setting up cuda-nvcc-11-8 (11.8.89-1) ...\n",
            "Setting up libatk-wrapper-java-jni:amd64 (0.38.0-5build1) ...\n",
            "Setting up libcublas-dev-11-8 (11.11.3.6-1) ...\n",
            "Setting up libcurand-dev-11-8 (10.3.0.86-1) ...\n",
            "Setting up libcufile-dev-11-8 (1.4.0.31-1) ...\n",
            "Setting up cuda-compiler-11-8 (11.8.0-1) ...\n",
            "Setting up cuda-libraries-dev-11-8 (11.8.0-1) ...\n",
            "Setting up cuda-visual-tools-11-8 (11.8.0-1) ...\n",
            "Setting up cuda-tools-11-8 (11.8.0-1) ...\n",
            "Setting up cuda-toolkit-11-8 (11.8.0-1) ...\n",
            "Setting alternatives\n",
            "Processing triggers for hicolor-icon-theme (0.17-2) ...\n",
            "Processing triggers for libc-bin (2.35-0ubuntu3.4) ...\n",
            "/sbin/ldconfig.real: /usr/local/lib/libtbbmalloc.so.2 is not a symbolic link\n",
            "\n",
            "/sbin/ldconfig.real: /usr/local/lib/libtcm.so.1 is not a symbolic link\n",
            "\n",
            "/sbin/ldconfig.real: /usr/local/lib/libtcm_debug.so.1 is not a symbolic link\n",
            "\n",
            "/sbin/ldconfig.real: /usr/local/lib/libumf.so.0 is not a symbolic link\n",
            "\n",
            "/sbin/ldconfig.real: /usr/local/lib/libtbbbind_2_5.so.3 is not a symbolic link\n",
            "\n",
            "/sbin/ldconfig.real: /usr/local/lib/libtbbbind.so.3 is not a symbolic link\n",
            "\n",
            "/sbin/ldconfig.real: /usr/local/lib/libtbb.so.12 is not a symbolic link\n",
            "\n",
            "/sbin/ldconfig.real: /usr/local/lib/libtbbbind_2_0.so.3 is not a symbolic link\n",
            "\n",
            "/sbin/ldconfig.real: /usr/local/lib/libur_loader.so.0 is not a symbolic link\n",
            "\n",
            "/sbin/ldconfig.real: /usr/local/lib/libhwloc.so.15 is not a symbolic link\n",
            "\n",
            "/sbin/ldconfig.real: /usr/local/lib/libur_adapter_level_zero.so.0 is not a symbolic link\n",
            "\n",
            "/sbin/ldconfig.real: /usr/local/lib/libur_adapter_opencl.so.0 is not a symbolic link\n",
            "\n",
            "/sbin/ldconfig.real: /usr/local/lib/libtbbmalloc_proxy.so.2 is not a symbolic link\n",
            "\n",
            "Processing triggers for man-db (2.10.2-1) ...\n",
            "Processing triggers for fontconfig (2.13.1-4.2ubuntu5) ...\n",
            "Looking in indexes: https://pypi.org/simple, https://pypi.nvidia.com\n",
            "Collecting cuml-cu11\n",
            "  Downloading https://pypi.nvidia.com/cuml-cu11/cuml_cu11-24.12.0-cp310-cp310-manylinux_2_28_x86_64.whl (1352.8 MB)\n",
            "\u001b[2K     \u001b[90m━━━━━━━━━━━━━━━━━━━━━━━━━━━━━━━━━━━━━━━━\u001b[0m \u001b[32m1.4/1.4 GB\u001b[0m \u001b[31m760.0 kB/s\u001b[0m eta \u001b[36m0:00:00\u001b[0m\n",
            "\u001b[?25hCollecting cudf-cu11==24.12.* (from cuml-cu11)\n",
            "  Downloading https://pypi.nvidia.com/cudf-cu11/cudf_cu11-24.12.0-cp310-cp310-manylinux_2_24_x86_64.manylinux_2_28_x86_64.whl (26.3 MB)\n",
            "\u001b[2K     \u001b[90m━━━━━━━━━━━━━━━━━━━━━━━━━━━━━━━━━━━━━━━━\u001b[0m \u001b[32m26.3/26.3 MB\u001b[0m \u001b[31m51.9 MB/s\u001b[0m eta \u001b[36m0:00:00\u001b[0m\n",
            "\u001b[?25hCollecting cupy-cuda11x>=12.0.0 (from cuml-cu11)\n",
            "  Downloading cupy_cuda11x-13.3.0-cp310-cp310-manylinux2014_x86_64.whl.metadata (2.7 kB)\n",
            "Collecting cuvs-cu11==24.12.* (from cuml-cu11)\n",
            "  Downloading https://pypi.nvidia.com/cuvs-cu11/cuvs_cu11-24.12.0-cp310-cp310-manylinux_2_28_x86_64.whl (1453.4 MB)\n",
            "\u001b[2K     \u001b[90m━━━━━━━━━━━━━━━━━━━━━━━━━━━━━━━━━━━━━━━━\u001b[0m \u001b[32m1.5/1.5 GB\u001b[0m \u001b[31m938.4 kB/s\u001b[0m eta \u001b[36m0:00:00\u001b[0m\n",
            "\u001b[?25hCollecting dask-cuda==24.12.* (from cuml-cu11)\n",
            "  Downloading https://pypi.nvidia.com/dask-cuda/dask_cuda-24.12.0-py3-none-any.whl (134 kB)\n",
            "\u001b[2K     \u001b[90m━━━━━━━━━━━━━━━━━━━━━━━━━━━━━━━━━━━━━━━━\u001b[0m \u001b[32m134.4/134.4 kB\u001b[0m \u001b[31m13.4 MB/s\u001b[0m eta \u001b[36m0:00:00\u001b[0m\n",
            "\u001b[?25hCollecting dask-cudf-cu11==24.12.* (from cuml-cu11)\n",
            "  Downloading https://pypi.nvidia.com/dask-cudf-cu11/dask_cudf_cu11-24.12.0-py3-none-any.whl (67 kB)\n",
            "\u001b[2K     \u001b[90m━━━━━━━━━━━━━━━━━━━━━━━━━━━━━━━━━━━━━━━━\u001b[0m \u001b[32m67.2/67.2 kB\u001b[0m \u001b[31m5.7 MB/s\u001b[0m eta \u001b[36m0:00:00\u001b[0m\n",
            "\u001b[?25hRequirement already satisfied: joblib>=0.11 in /usr/local/lib/python3.10/dist-packages (from cuml-cu11) (1.4.2)\n",
            "Requirement already satisfied: numba>=0.57 in /usr/local/lib/python3.10/dist-packages (from cuml-cu11) (0.60.0)\n",
            "Requirement already satisfied: numpy<3.0a0,>=1.23 in /usr/local/lib/python3.10/dist-packages (from cuml-cu11) (1.26.4)\n",
            "Requirement already satisfied: packaging in /usr/local/lib/python3.10/dist-packages (from cuml-cu11) (24.2)\n",
            "Collecting pylibraft-cu11==24.12.* (from cuml-cu11)\n",
            "  Downloading https://pypi.nvidia.com/pylibraft-cu11/pylibraft_cu11-24.12.0-cp310-cp310-manylinux_2_28_x86_64.whl (567.1 MB)\n",
            "\u001b[2K     \u001b[90m━━━━━━━━━━━━━━━━━━━━━━━━━━━━━━━━━━━━━━━━\u001b[0m \u001b[32m567.1/567.1 MB\u001b[0m \u001b[31m3.3 MB/s\u001b[0m eta \u001b[36m0:00:00\u001b[0m\n",
            "\u001b[?25hCollecting raft-dask-cu11==24.12.* (from cuml-cu11)\n",
            "  Downloading https://pypi.nvidia.com/raft-dask-cu11/raft_dask_cu11-24.12.0-cp310-cp310-manylinux_2_28_x86_64.whl (196.9 MB)\n",
            "\u001b[2K     \u001b[90m━━━━━━━━━━━━━━━━━━━━━━━━━━━━━━━━━━━━━━━━\u001b[0m \u001b[32m196.9/196.9 MB\u001b[0m \u001b[31m6.1 MB/s\u001b[0m eta \u001b[36m0:00:00\u001b[0m\n",
            "\u001b[?25hCollecting rapids-dask-dependency==24.12.* (from cuml-cu11)\n",
            "  Downloading https://pypi.nvidia.com/rapids-dask-dependency/rapids_dask_dependency-24.12.0-py3-none-any.whl (15 kB)\n",
            "Collecting rmm-cu11==24.12.* (from cuml-cu11)\n",
            "  Downloading https://pypi.nvidia.com/rmm-cu11/rmm_cu11-24.12.1-cp310-cp310-manylinux_2_24_x86_64.manylinux_2_28_x86_64.whl (1.9 MB)\n",
            "\u001b[2K     \u001b[90m━━━━━━━━━━━━━━━━━━━━━━━━━━━━━━━━━━━━━━━━\u001b[0m \u001b[32m1.9/1.9 MB\u001b[0m \u001b[31m53.5 MB/s\u001b[0m eta \u001b[36m0:00:00\u001b[0m\n",
            "\u001b[?25hRequirement already satisfied: scipy>=1.8.0 in /usr/local/lib/python3.10/dist-packages (from cuml-cu11) (1.13.1)\n",
            "Collecting treelite==4.3.0 (from cuml-cu11)\n",
            "  Downloading treelite-4.3.0-py3-none-manylinux2014_x86_64.whl.metadata (1.5 kB)\n",
            "Requirement already satisfied: cachetools in /usr/local/lib/python3.10/dist-packages (from cudf-cu11==24.12.*->cuml-cu11) (5.5.0)\n",
            "Collecting cubinlinker-cu11 (from cudf-cu11==24.12.*->cuml-cu11)\n",
            "  Downloading https://pypi.nvidia.com/cubinlinker-cu11/cubinlinker_cu11-0.3.0.post2-cp310-cp310-manylinux_2_17_x86_64.manylinux2014_x86_64.whl (8.8 MB)\n",
            "\u001b[2K     \u001b[90m━━━━━━━━━━━━━━━━━━━━━━━━━━━━━━━━━━━━━━━━\u001b[0m \u001b[32m8.8/8.8 MB\u001b[0m \u001b[31m103.7 MB/s\u001b[0m eta \u001b[36m0:00:00\u001b[0m\n",
            "\u001b[?25hCollecting cuda-python<12.0a0,<=11.8.3,>=11.7.1 (from cudf-cu11==24.12.*->cuml-cu11)\n",
            "  Downloading cuda_python-11.8.3-cp310-cp310-manylinux_2_17_x86_64.manylinux2014_x86_64.whl.metadata (12 kB)\n",
            "Requirement already satisfied: fsspec>=0.6.0 in /usr/local/lib/python3.10/dist-packages (from cudf-cu11==24.12.*->cuml-cu11) (2024.10.0)\n",
            "Collecting libcudf-cu11==24.12.* (from cudf-cu11==24.12.*->cuml-cu11)\n",
            "  Downloading https://pypi.nvidia.com/libcudf-cu11/libcudf_cu11-24.12.0-py3-none-manylinux_2_28_x86_64.whl (452.8 MB)\n",
            "\u001b[2K     \u001b[90m━━━━━━━━━━━━━━━━━━━━━━━━━━━━━━━━━━━━━━━━\u001b[0m \u001b[32m452.8/452.8 MB\u001b[0m \u001b[31m3.3 MB/s\u001b[0m eta \u001b[36m0:00:00\u001b[0m\n",
            "\u001b[?25hCollecting numba-cuda<0.0.18,>=0.0.13 (from cudf-cu11==24.12.*->cuml-cu11)\n",
            "  Downloading numba_cuda-0.0.17.1-py3-none-any.whl.metadata (1.4 kB)\n",
            "Requirement already satisfied: nvtx>=0.2.1 in /usr/local/lib/python3.10/dist-packages (from cudf-cu11==24.12.*->cuml-cu11) (0.2.10)\n",
            "Requirement already satisfied: pandas<2.2.4dev0,>=2.0 in /usr/local/lib/python3.10/dist-packages (from cudf-cu11==24.12.*->cuml-cu11) (2.2.2)\n",
            "Collecting ptxcompiler-cu11 (from cudf-cu11==24.12.*->cuml-cu11)\n",
            "  Downloading https://pypi.nvidia.com/ptxcompiler-cu11/ptxcompiler_cu11-0.8.1.post2-cp310-cp310-manylinux_2_17_x86_64.manylinux2014_x86_64.manylinux_2_28_x86_64.whl (8.7 MB)\n",
            "\u001b[2K     \u001b[90m━━━━━━━━━━━━━━━━━━━━━━━━━━━━━━━━━━━━━━━━\u001b[0m \u001b[32m8.7/8.7 MB\u001b[0m \u001b[31m101.2 MB/s\u001b[0m eta \u001b[36m0:00:00\u001b[0m\n",
            "\u001b[?25hRequirement already satisfied: pyarrow<19.0.0a0,>=14.0.0 in /usr/local/lib/python3.10/dist-packages (from cudf-cu11==24.12.*->cuml-cu11) (17.0.0)\n",
            "Collecting pylibcudf-cu11==24.12.* (from cudf-cu11==24.12.*->cuml-cu11)\n",
            "  Downloading https://pypi.nvidia.com/pylibcudf-cu11/pylibcudf_cu11-24.12.0-cp310-cp310-manylinux_2_24_x86_64.manylinux_2_28_x86_64.whl (36.5 MB)\n",
            "\u001b[2K     \u001b[90m━━━━━━━━━━━━━━━━━━━━━━━━━━━━━━━━━━━━━━━━\u001b[0m \u001b[32m36.5/36.5 MB\u001b[0m \u001b[31m20.9 MB/s\u001b[0m eta \u001b[36m0:00:00\u001b[0m\n",
            "\u001b[?25hRequirement already satisfied: rich in /usr/local/lib/python3.10/dist-packages (from cudf-cu11==24.12.*->cuml-cu11) (13.9.4)\n",
            "Requirement already satisfied: typing_extensions>=4.0.0 in /usr/local/lib/python3.10/dist-packages (from cudf-cu11==24.12.*->cuml-cu11) (4.12.2)\n",
            "Requirement already satisfied: click>=8.1 in /usr/local/lib/python3.10/dist-packages (from dask-cuda==24.12.*->cuml-cu11) (8.1.7)\n",
            "Collecting pynvml<12.0.0a0,>=11.0.0 (from dask-cuda==24.12.*->cuml-cu11)\n",
            "  Downloading pynvml-11.5.3-py3-none-any.whl.metadata (8.8 kB)\n",
            "Collecting zict>=2.0.0 (from dask-cuda==24.12.*->cuml-cu11)\n",
            "  Downloading zict-3.0.0-py2.py3-none-any.whl.metadata (899 bytes)\n",
            "Collecting distributed-ucxx-cu11==0.41.* (from raft-dask-cu11==24.12.*->cuml-cu11)\n",
            "  Downloading https://pypi.nvidia.com/distributed-ucxx-cu11/distributed_ucxx_cu11-0.41.0-py3-none-any.whl (24 kB)\n",
            "Collecting ucx-py-cu11==0.41.* (from raft-dask-cu11==24.12.*->cuml-cu11)\n",
            "  Downloading https://pypi.nvidia.com/ucx-py-cu11/ucx_py_cu11-0.41.0-cp310-cp310-manylinux_2_17_x86_64.manylinux2014_x86_64.manylinux_2_28_x86_64.whl (2.1 MB)\n",
            "\u001b[2K     \u001b[90m━━━━━━━━━━━━━━━━━━━━━━━━━━━━━━━━━━━━━━━━\u001b[0m \u001b[32m2.1/2.1 MB\u001b[0m \u001b[31m88.6 MB/s\u001b[0m eta \u001b[36m0:00:00\u001b[0m\n",
            "\u001b[?25hCollecting dask==2024.11.2 (from rapids-dask-dependency==24.12.*->cuml-cu11)\n",
            "  Downloading dask-2024.11.2-py3-none-any.whl.metadata (3.7 kB)\n",
            "Collecting distributed==2024.11.2 (from rapids-dask-dependency==24.12.*->cuml-cu11)\n",
            "  Downloading distributed-2024.11.2-py3-none-any.whl.metadata (3.3 kB)\n",
            "Collecting dask-expr==1.1.19 (from rapids-dask-dependency==24.12.*->cuml-cu11)\n",
            "  Downloading dask_expr-1.1.19-py3-none-any.whl.metadata (2.6 kB)\n",
            "Collecting pynvml<12.0.0a0,>=11.0.0 (from dask-cuda==24.12.*->cuml-cu11)\n",
            "  Downloading pynvml-11.4.1-py3-none-any.whl.metadata (7.7 kB)\n",
            "Requirement already satisfied: cloudpickle>=3.0.0 in /usr/local/lib/python3.10/dist-packages (from dask==2024.11.2->rapids-dask-dependency==24.12.*->cuml-cu11) (3.1.0)\n",
            "Requirement already satisfied: partd>=1.4.0 in /usr/local/lib/python3.10/dist-packages (from dask==2024.11.2->rapids-dask-dependency==24.12.*->cuml-cu11) (1.4.2)\n",
            "Requirement already satisfied: pyyaml>=5.3.1 in /usr/local/lib/python3.10/dist-packages (from dask==2024.11.2->rapids-dask-dependency==24.12.*->cuml-cu11) (6.0.2)\n",
            "Requirement already satisfied: toolz>=0.10.0 in /usr/local/lib/python3.10/dist-packages (from dask==2024.11.2->rapids-dask-dependency==24.12.*->cuml-cu11) (0.12.1)\n",
            "Requirement already satisfied: importlib-metadata>=4.13.0 in /usr/local/lib/python3.10/dist-packages (from dask==2024.11.2->rapids-dask-dependency==24.12.*->cuml-cu11) (8.5.0)\n",
            "Requirement already satisfied: jinja2>=2.10.3 in /usr/local/lib/python3.10/dist-packages (from distributed==2024.11.2->rapids-dask-dependency==24.12.*->cuml-cu11) (3.1.4)\n",
            "Requirement already satisfied: locket>=1.0.0 in /usr/local/lib/python3.10/dist-packages (from distributed==2024.11.2->rapids-dask-dependency==24.12.*->cuml-cu11) (1.0.0)\n",
            "Requirement already satisfied: msgpack>=1.0.2 in /usr/local/lib/python3.10/dist-packages (from distributed==2024.11.2->rapids-dask-dependency==24.12.*->cuml-cu11) (1.1.0)\n",
            "Requirement already satisfied: psutil>=5.8.0 in /usr/local/lib/python3.10/dist-packages (from distributed==2024.11.2->rapids-dask-dependency==24.12.*->cuml-cu11) (5.9.5)\n",
            "Collecting sortedcontainers>=2.0.5 (from distributed==2024.11.2->rapids-dask-dependency==24.12.*->cuml-cu11)\n",
            "  Downloading sortedcontainers-2.4.0-py2.py3-none-any.whl.metadata (10 kB)\n",
            "Collecting tblib>=1.6.0 (from distributed==2024.11.2->rapids-dask-dependency==24.12.*->cuml-cu11)\n",
            "  Downloading tblib-3.0.0-py3-none-any.whl.metadata (25 kB)\n",
            "Requirement already satisfied: tornado>=6.2.0 in /usr/local/lib/python3.10/dist-packages (from distributed==2024.11.2->rapids-dask-dependency==24.12.*->cuml-cu11) (6.3.3)\n",
            "Requirement already satisfied: urllib3>=1.26.5 in /usr/local/lib/python3.10/dist-packages (from distributed==2024.11.2->rapids-dask-dependency==24.12.*->cuml-cu11) (2.2.3)\n",
            "Collecting ucxx-cu11==0.41.* (from distributed-ucxx-cu11==0.41.*->raft-dask-cu11==24.12.*->cuml-cu11)\n",
            "  Downloading https://pypi.nvidia.com/ucxx-cu11/ucxx_cu11-0.41.0-cp310-cp310-manylinux_2_27_x86_64.manylinux_2_28_x86_64.whl (832 kB)\n",
            "\u001b[2K     \u001b[90m━━━━━━━━━━━━━━━━━━━━━━━━━━━━━━━━━━━━━━━━\u001b[0m \u001b[32m832.6/832.6 kB\u001b[0m \u001b[31m56.2 MB/s\u001b[0m eta \u001b[36m0:00:00\u001b[0m\n",
            "\u001b[?25hCollecting libkvikio-cu11==24.12.* (from libcudf-cu11==24.12.*->cudf-cu11==24.12.*->cuml-cu11)\n",
            "  Downloading https://pypi.nvidia.com/libkvikio-cu11/libkvikio_cu11-24.12.1-py3-none-manylinux_2_28_x86_64.whl (2.0 MB)\n",
            "\u001b[2K     \u001b[90m━━━━━━━━━━━━━━━━━━━━━━━━━━━━━━━━━━━━━━━━\u001b[0m \u001b[32m2.0/2.0 MB\u001b[0m \u001b[31m79.8 MB/s\u001b[0m eta \u001b[36m0:00:00\u001b[0m\n",
            "\u001b[?25hCollecting nvidia-nvcomp-cu11==4.1.0.6 (from libcudf-cu11==24.12.*->cudf-cu11==24.12.*->cuml-cu11)\n",
            "  Downloading https://pypi.nvidia.com/nvidia-nvcomp-cu11/nvidia_nvcomp_cu11-4.1.0.6-py3-none-manylinux_2_28_x86_64.whl (28.5 MB)\n",
            "\u001b[2K     \u001b[90m━━━━━━━━━━━━━━━━━━━━━━━━━━━━━━━━━━━━━━━━\u001b[0m \u001b[32m28.5/28.5 MB\u001b[0m \u001b[31m70.6 MB/s\u001b[0m eta \u001b[36m0:00:00\u001b[0m\n",
            "\u001b[?25hCollecting libucx-cu11<1.18,>=1.15.0 (from ucx-py-cu11==0.41.*->raft-dask-cu11==24.12.*->cuml-cu11)\n",
            "  Downloading libucx_cu11-1.17.0.post1-py3-none-manylinux_2_28_x86_64.whl.metadata (2.9 kB)\n",
            "Collecting libucxx-cu11==0.41.* (from ucxx-cu11==0.41.*->distributed-ucxx-cu11==0.41.*->raft-dask-cu11==24.12.*->cuml-cu11)\n",
            "  Downloading https://pypi.nvidia.com/libucxx-cu11/libucxx_cu11-0.41.0-py3-none-manylinux_2_24_x86_64.manylinux_2_28_x86_64.whl (505 kB)\n",
            "\u001b[2K     \u001b[90m━━━━━━━━━━━━━━━━━━━━━━━━━━━━━━━━━━━━━━━━\u001b[0m \u001b[32m505.6/505.6 kB\u001b[0m \u001b[31m39.5 MB/s\u001b[0m eta \u001b[36m0:00:00\u001b[0m\n",
            "\u001b[?25hRequirement already satisfied: fastrlock>=0.5 in /usr/local/lib/python3.10/dist-packages (from cupy-cuda11x>=12.0.0->cuml-cu11) (0.8.2)\n",
            "Requirement already satisfied: llvmlite<0.44,>=0.43.0dev0 in /usr/local/lib/python3.10/dist-packages (from numba>=0.57->cuml-cu11) (0.43.0)\n",
            "Requirement already satisfied: python-dateutil>=2.8.2 in /usr/local/lib/python3.10/dist-packages (from pandas<2.2.4dev0,>=2.0->cudf-cu11==24.12.*->cuml-cu11) (2.8.2)\n",
            "Requirement already satisfied: pytz>=2020.1 in /usr/local/lib/python3.10/dist-packages (from pandas<2.2.4dev0,>=2.0->cudf-cu11==24.12.*->cuml-cu11) (2024.2)\n",
            "Requirement already satisfied: tzdata>=2022.7 in /usr/local/lib/python3.10/dist-packages (from pandas<2.2.4dev0,>=2.0->cudf-cu11==24.12.*->cuml-cu11) (2024.2)\n",
            "Requirement already satisfied: markdown-it-py>=2.2.0 in /usr/local/lib/python3.10/dist-packages (from rich->cudf-cu11==24.12.*->cuml-cu11) (3.0.0)\n",
            "Requirement already satisfied: pygments<3.0.0,>=2.13.0 in /usr/local/lib/python3.10/dist-packages (from rich->cudf-cu11==24.12.*->cuml-cu11) (2.18.0)\n",
            "Requirement already satisfied: zipp>=3.20 in /usr/local/lib/python3.10/dist-packages (from importlib-metadata>=4.13.0->dask==2024.11.2->rapids-dask-dependency==24.12.*->cuml-cu11) (3.21.0)\n",
            "Requirement already satisfied: MarkupSafe>=2.0 in /usr/local/lib/python3.10/dist-packages (from jinja2>=2.10.3->distributed==2024.11.2->rapids-dask-dependency==24.12.*->cuml-cu11) (3.0.2)\n",
            "Requirement already satisfied: mdurl~=0.1 in /usr/local/lib/python3.10/dist-packages (from markdown-it-py>=2.2.0->rich->cudf-cu11==24.12.*->cuml-cu11) (0.1.2)\n",
            "Requirement already satisfied: six>=1.5 in /usr/local/lib/python3.10/dist-packages (from python-dateutil>=2.8.2->pandas<2.2.4dev0,>=2.0->cudf-cu11==24.12.*->cuml-cu11) (1.17.0)\n",
            "Downloading treelite-4.3.0-py3-none-manylinux2014_x86_64.whl (915 kB)\n",
            "\u001b[2K   \u001b[90m━━━━━━━━━━━━━━━━━━━━━━━━━━━━━━━━━━━━━━━━\u001b[0m \u001b[32m916.0/916.0 kB\u001b[0m \u001b[31m21.3 MB/s\u001b[0m eta \u001b[36m0:00:00\u001b[0m\n",
            "\u001b[?25hDownloading dask-2024.11.2-py3-none-any.whl (1.3 MB)\n",
            "\u001b[2K   \u001b[90m━━━━━━━━━━━━━━━━━━━━━━━━━━━━━━━━━━━━━━━━\u001b[0m \u001b[32m1.3/1.3 MB\u001b[0m \u001b[31m71.1 MB/s\u001b[0m eta \u001b[36m0:00:00\u001b[0m\n",
            "\u001b[?25hDownloading dask_expr-1.1.19-py3-none-any.whl (244 kB)\n",
            "\u001b[2K   \u001b[90m━━━━━━━━━━━━━━━━━━━━━━━━━━━━━━━━━━━━━━━━\u001b[0m \u001b[32m244.5/244.5 kB\u001b[0m \u001b[31m23.4 MB/s\u001b[0m eta \u001b[36m0:00:00\u001b[0m\n",
            "\u001b[?25hDownloading distributed-2024.11.2-py3-none-any.whl (1.0 MB)\n",
            "\u001b[2K   \u001b[90m━━━━━━━━━━━━━━━━━━━━━━━━━━━━━━━━━━━━━━━━\u001b[0m \u001b[32m1.0/1.0 MB\u001b[0m \u001b[31m62.8 MB/s\u001b[0m eta \u001b[36m0:00:00\u001b[0m\n",
            "\u001b[?25hDownloading cupy_cuda11x-13.3.0-cp310-cp310-manylinux2014_x86_64.whl (96.6 MB)\n",
            "\u001b[2K   \u001b[90m━━━━━━━━━━━━━━━━━━━━━━━━━━━━━━━━━━━━━━━━\u001b[0m \u001b[32m96.6/96.6 MB\u001b[0m \u001b[31m8.5 MB/s\u001b[0m eta \u001b[36m0:00:00\u001b[0m\n",
            "\u001b[?25hDownloading cuda_python-11.8.3-cp310-cp310-manylinux_2_17_x86_64.manylinux2014_x86_64.whl (18.7 MB)\n",
            "\u001b[2K   \u001b[90m━━━━━━━━━━━━━━━━━━━━━━━━━━━━━━━━━━━━━━━━\u001b[0m \u001b[32m18.7/18.7 MB\u001b[0m \u001b[31m62.3 MB/s\u001b[0m eta \u001b[36m0:00:00\u001b[0m\n",
            "\u001b[?25hDownloading numba_cuda-0.0.17.1-py3-none-any.whl (424 kB)\n",
            "\u001b[2K   \u001b[90m━━━━━━━━━━━━━━━━━━━━━━━━━━━━━━━━━━━━━━━━\u001b[0m \u001b[32m424.7/424.7 kB\u001b[0m \u001b[31m31.8 MB/s\u001b[0m eta \u001b[36m0:00:00\u001b[0m\n",
            "\u001b[?25hDownloading pynvml-11.4.1-py3-none-any.whl (46 kB)\n",
            "\u001b[2K   \u001b[90m━━━━━━━━━━━━━━━━━━━━━━━━━━━━━━━━━━━━━━━━\u001b[0m \u001b[32m47.0/47.0 kB\u001b[0m \u001b[31m4.6 MB/s\u001b[0m eta \u001b[36m0:00:00\u001b[0m\n",
            "\u001b[?25hDownloading zict-3.0.0-py2.py3-none-any.whl (43 kB)\n",
            "\u001b[2K   \u001b[90m━━━━━━━━━━━━━━━━━━━━━━━━━━━━━━━━━━━━━━━━\u001b[0m \u001b[32m43.3/43.3 kB\u001b[0m \u001b[31m4.1 MB/s\u001b[0m eta \u001b[36m0:00:00\u001b[0m\n",
            "\u001b[?25hDownloading libucx_cu11-1.17.0.post1-py3-none-manylinux_2_28_x86_64.whl (26.9 MB)\n",
            "\u001b[2K   \u001b[90m━━━━━━━━━━━━━━━━━━━━━━━━━━━━━━━━━━━━━━━━\u001b[0m \u001b[32m26.9/26.9 MB\u001b[0m \u001b[31m25.6 MB/s\u001b[0m eta \u001b[36m0:00:00\u001b[0m\n",
            "\u001b[?25hDownloading sortedcontainers-2.4.0-py2.py3-none-any.whl (29 kB)\n",
            "Downloading tblib-3.0.0-py3-none-any.whl (12 kB)\n",
            "Installing collected packages: sortedcontainers, ptxcompiler-cu11, libkvikio-cu11, cuda-python, zict, tblib, pynvml, nvidia-nvcomp-cu11, libucx-cu11, cupy-cuda11x, cubinlinker-cu11, ucx-py-cu11, treelite, rmm-cu11, numba-cuda, libucxx-cu11, libcudf-cu11, dask, ucxx-cu11, pylibraft-cu11, pylibcudf-cu11, distributed, dask-expr, rapids-dask-dependency, cuvs-cu11, cudf-cu11, distributed-ucxx-cu11, dask-cudf-cu11, dask-cuda, raft-dask-cu11, cuml-cu11\n",
            "  Attempting uninstall: cuda-python\n",
            "    Found existing installation: cuda-python 12.2.1\n",
            "    Uninstalling cuda-python-12.2.1:\n",
            "      Successfully uninstalled cuda-python-12.2.1\n",
            "  Attempting uninstall: dask\n",
            "    Found existing installation: dask 2024.10.0\n",
            "    Uninstalling dask-2024.10.0:\n",
            "      Successfully uninstalled dask-2024.10.0\n",
            "\u001b[31mERROR: pip's dependency resolver does not currently take into account all the packages that are installed. This behaviour is the source of the following dependency conflicts.\n",
            "cudf-cu12 24.10.1 requires cuda-python<13.0a0,>=12.0, but you have cuda-python 11.8.3 which is incompatible.\n",
            "pylibcudf-cu12 24.10.1 requires cuda-python<13.0a0,>=12.0, but you have cuda-python 11.8.3 which is incompatible.\n",
            "pylibraft-cu12 24.10.0 requires cuda-python<13.0a0,>=12.0, but you have cuda-python 11.8.3 which is incompatible.\n",
            "rmm-cu12 24.10.0 requires cuda-python<13.0a0,>=12.0, but you have cuda-python 11.8.3 which is incompatible.\u001b[0m\u001b[31m\n",
            "\u001b[0mSuccessfully installed cubinlinker-cu11-0.3.0.post2 cuda-python-11.8.3 cudf-cu11-24.12.0 cuml-cu11-24.12.0 cupy-cuda11x-13.3.0 cuvs-cu11-24.12.0 dask-2024.11.2 dask-cuda-24.12.0 dask-cudf-cu11-24.12.0 dask-expr-1.1.19 distributed-2024.11.2 distributed-ucxx-cu11-0.41.0 libcudf-cu11-24.12.0 libkvikio-cu11-24.12.1 libucx-cu11-1.17.0.post1 libucxx-cu11-0.41.0 numba-cuda-0.0.17.1 nvidia-nvcomp-cu11-4.1.0.6 ptxcompiler-cu11-0.8.1.post2 pylibcudf-cu11-24.12.0 pylibraft-cu11-24.12.0 pynvml-11.4.1 raft-dask-cu11-24.12.0 rapids-dask-dependency-24.12.0 rmm-cu11-24.12.1 sortedcontainers-2.4.0 tblib-3.0.0 treelite-4.3.0 ucx-py-cu11-0.41.0 ucxx-cu11-0.41.0 zict-3.0.0\n",
            "Collecting faiss-gpu\n",
            "  Downloading faiss_gpu-1.7.2-cp310-cp310-manylinux_2_17_x86_64.manylinux2014_x86_64.whl.metadata (1.4 kB)\n",
            "Downloading faiss_gpu-1.7.2-cp310-cp310-manylinux_2_17_x86_64.manylinux2014_x86_64.whl (85.5 MB)\n",
            "\u001b[2K   \u001b[90m━━━━━━━━━━━━━━━━━━━━━━━━━━━━━━━━━━━━━━━━\u001b[0m \u001b[32m85.5/85.5 MB\u001b[0m \u001b[31m8.5 MB/s\u001b[0m eta \u001b[36m0:00:00\u001b[0m\n",
            "\u001b[?25hInstalling collected packages: faiss-gpu\n",
            "Successfully installed faiss-gpu-1.7.2\n",
            "cuml is successfully installed!\n"
          ]
        }
      ],
      "source": [
        "#!nvcc --version\n",
        "# 1) Install cuml cull\n",
        "#!pip install cuml-cu11 --extra-index-url=https://pypi.nvidia.com\n",
        "# 2) restart run time\n",
        "# 3) check we can load library\n",
        "# from cuml.svm import SVC\n",
        "\n",
        "# 4) Install CUDA Toolkit\n",
        "!apt-get update\n",
        "!apt-get install -y cuda-toolkit-11-8\n",
        "\n",
        "# 5)\n",
        "!pip install cuml-cu11 --extra-index-url=https://pypi.nvidia.com\n",
        "\n",
        "# 6) insall fias for knn gpu\n",
        "!pip install faiss-gpu\n",
        "\n",
        "print(\"cuml is successfully installed!\")\n",
        "# ensure GPU use in conf\n",
        "#  3) check we can load library\n",
        "# from cuml.svm import SVC"
      ]
    },
    {
      "cell_type": "code",
      "execution_count": 4,
      "metadata": {
        "colab": {
          "base_uri": "https://localhost:8080/"
        },
        "collapsed": true,
        "id": "n2UffVfuM8z_",
        "outputId": "33137c0c-2ab2-4820-fd37-ba28c79c9285"
      },
      "outputs": [
        {
          "output_type": "stream",
          "name": "stderr",
          "text": [
            "/usr/local/lib/python3.10/dist-packages/cupy/_environment.py:540: UserWarning: \n",
            "--------------------------------------------------------------------------------\n",
            "\n",
            "  CuPy may not function correctly because multiple CuPy packages are installed\n",
            "  in your environment:\n",
            "\n",
            "    cupy-cuda11x, cupy-cuda12x\n",
            "\n",
            "  Follow these steps to resolve this issue:\n",
            "\n",
            "    1. For all packages listed above, run the following command to remove all\n",
            "       existing CuPy installations:\n",
            "\n",
            "         $ pip uninstall <package_name>\n",
            "\n",
            "      If you previously installed CuPy via conda, also run the following:\n",
            "\n",
            "         $ conda uninstall cupy\n",
            "\n",
            "    2. Install the appropriate CuPy package.\n",
            "       Refer to the Installation Guide for detailed instructions.\n",
            "\n",
            "         https://docs.cupy.dev/en/stable/install.html\n",
            "\n",
            "--------------------------------------------------------------------------------\n",
            "\n",
            "  warnings.warn(f'''\n"
          ]
        }
      ],
      "source": [
        "# Import libraries\n",
        "import time\n",
        "import os\n",
        "\n",
        "# data preprocesssing\n",
        "import pandas as pd\n",
        "import numpy as np\n",
        "from sklearn.pipeline import Pipeline\n",
        "\n",
        "from sklearn.preprocessing import OneHotEncoder\n",
        "from sklearn.compose import ColumnTransformer\n",
        "from sklearn.impute import SimpleImputer\n",
        "from sklearn.model_selection import train_test_split\n",
        "from sklearn.preprocessing import StandardScaler\n",
        "\n",
        "\n",
        "# modells-algorithms\n",
        "from sklearn.linear_model import LogisticRegression\n",
        "from sklearn import svm\n",
        "from sklearn.svm import SVC as SklearnSVC\n",
        "import cupy as cp\n",
        "from cuml.svm import SVC as CuMLSVC  #  GPU-accelerated SVC\n",
        "import faiss # knn GPU\n",
        "from xgboost import XGBClassifier\n",
        "from sklearn.ensemble import RandomForestClassifier\n",
        "\n",
        "# model saving\n",
        "import joblib\n",
        "import pickle # for faiss\n",
        "\n",
        "# metrics evaluation\n",
        "from sklearn.metrics import accuracy_score, classification_report, confusion_matrix\n",
        "from sklearn.metrics import classification_report, roc_auc_score, roc_curve\n",
        "from sklearn.metrics import precision_score, recall_score, f1_score\n",
        "from sklearn.metrics import precision_recall_fscore_support\n",
        "\n",
        "\n",
        "# plotting\n",
        "import matplotlib.pyplot as plt"
      ]
    },
    {
      "cell_type": "code",
      "execution_count": 5,
      "metadata": {
        "id": "ny6MmLWRfxo2"
      },
      "outputs": [],
      "source": [
        "# Define the path to save results and ensure it exsists, if not create it\n",
        "results_dir = \"/content/drive/MyDrive/TFM 2024/results\"\n",
        "os.makedirs(results_dir, exist_ok=True)"
      ]
    },
    {
      "cell_type": "markdown",
      "source": [
        "#### **DEFINE FUNCTIONS:**"
      ],
      "metadata": {
        "id": "LoA15fOuTmSe"
      }
    },
    {
      "cell_type": "code",
      "execution_count": 7,
      "metadata": {
        "id": "pF74-Rij7xEO"
      },
      "outputs": [],
      "source": [
        "def log_metrics_detailed(model_name, y_true, y_pred, y_proba, start_time):\n",
        "    runtime = time.time() - start_time\n",
        "    accuracy = accuracy_score(y_true, y_pred)\n",
        "    roc_auc = roc_auc_score(y_true, y_proba)\n",
        "\n",
        "    # Precision, Recall, F1-Score per class, macro average, and weighted average\n",
        "    precision, recall, f1, _ = precision_recall_fscore_support(y_true, y_pred, average=None, labels=[0, 1])\n",
        "    precision_macro, recall_macro, f1_macro, _ = precision_recall_fscore_support(y_true, y_pred, average='macro')\n",
        "    precision_weighted, recall_weighted, f1_weighted, _ = precision_recall_fscore_support(y_true, y_pred, average='weighted')\n",
        "\n",
        "    # Print metrics\n",
        "    print(f\"Model: {model_name}\")\n",
        "    print(f\"Class 0 (Non-Diabetic):\")\n",
        "    print(f\"  - Precision: {precision[0]:.4f}, Recall: {recall[0]:.4f}, F1-Score: {f1[0]:.4f}\")\n",
        "    print(f\"Class 1 (Diabetic):\")\n",
        "    print(f\"  - Precision: {precision[1]:.4f}, Recall: {recall[1]:.4f}, F1-Score: {f1[1]:.4f}\")\n",
        "    print(f\"Macro Average:\")\n",
        "    print(f\"  - Precision: {precision_macro:.4f}, Recall: {recall_macro:.4f}, F1-Score: {f1_macro:.4f}\")\n",
        "    print(f\"Weighted Average:\")\n",
        "    print(f\"  - Precision: {precision_weighted:.4f}, Recall: {recall_weighted:.4f}, F1-Score: {f1_weighted:.4f}\")\n",
        "    print(f\"Accuracy: {accuracy:.4f}\")\n",
        "    print(f\"ROC-AUC: {roc_auc:.4f}\")\n",
        "    print(f\"Runtime: {runtime:.2f} seconds\\n\")\n",
        "\n",
        "    # Log metrics in a dictionary for DataFrame construction\n",
        "    metrics_df.loc[len(metrics_df)] = {\n",
        "        'Model': model_name,\n",
        "        'Metric': 'Class 0 (Non-Diabetic)',\n",
        "        'Precision': precision[0],\n",
        "        'Recall': recall[0],\n",
        "        'F1-Score': f1[0],\n",
        "        'Accuracy': accuracy,\n",
        "        'ROC-AUC': roc_auc,\n",
        "        'Runtime': runtime\n",
        "    }\n",
        "    metrics_df.loc[len(metrics_df)] = {\n",
        "        'Model': model_name,\n",
        "        'Metric': 'Class 1 (Diabetic)',\n",
        "        'Precision': precision[1],\n",
        "        'Recall': recall[1],\n",
        "        'F1-Score': f1[1],\n",
        "        'Accuracy': accuracy,\n",
        "        'ROC-AUC': roc_auc,\n",
        "        'Runtime': runtime\n",
        "    }\n",
        "    metrics_df.loc[len(metrics_df)] = {\n",
        "        'Model': model_name,\n",
        "        'Metric': 'Macro Avg',\n",
        "        'Precision': precision_macro,\n",
        "        'Recall': recall_macro,\n",
        "        'F1-Score': f1_macro,\n",
        "        'Accuracy': accuracy,\n",
        "        'ROC-AUC': roc_auc,\n",
        "        'Runtime': runtime\n",
        "    }\n",
        "    metrics_df.loc[len(metrics_df)] = {\n",
        "        'Model': model_name,\n",
        "        'Metric': 'Weighted Avg',\n",
        "        'Precision': precision_weighted,\n",
        "        'Recall': recall_weighted,\n",
        "        'F1-Score': f1_weighted,\n",
        "        'Accuracy': accuracy,\n",
        "        'ROC-AUC': roc_auc,\n",
        "        'Runtime': runtime\n",
        "    }\n",
        "\n",
        "def save_faiss_index(index, save_path):\n",
        "    \"\"\"\n",
        "    Save a FAISS index to the specified path.\n",
        "    Automatically moves the GPU index back to CPU for compatibility.\n",
        "    \"\"\"\n",
        "    faiss.write_index(faiss.index_gpu_to_cpu(index), save_path)\n",
        "    print(f\"FAISS index saved successfully to: {save_path}\")\n",
        "\n",
        "def load_faiss_index(load_path, gpu=True):\n",
        "    \"\"\"\n",
        "    Load a FAISS index from the specified path.\n",
        "    Optionally move the index to GPU.\n",
        "    \"\"\"\n",
        "    index = faiss.read_index(load_path)\n",
        "    if gpu:\n",
        "        res = faiss.StandardGpuResources()\n",
        "        index = faiss.index_cpu_to_gpu(res, 0, index)\n",
        "        print(\"FAISS index loaded and moved to GPU.\")\n",
        "    else:\n",
        "        print(\"FAISS index loaded on CPU.\")\n",
        "    return index\n"
      ]
    },
    {
      "cell_type": "markdown",
      "metadata": {
        "id": "gZOna3ovNIi9"
      },
      "source": [
        "###**DATASETS**\n",
        "\n",
        "We will built 3 differents datasets and we'll train the different ML models in each of these datasets\n",
        "\n",
        "**1. Model Using Only the Latest Test:** We'll only take the most recent test  as may represent the participant's current health status and could be the most relevant for predicting their diagnosis. To do so we'll select only the latest test for each Prueba per participant, resulting in one row per test type per participant.\n",
        "\n",
        "**2. Model with Aggregate Features:** We'll summarize all available tests for each participant in order to reduce redundancy and creating a single row per participant. To do so, we'll compute summary statistics (mean, max, min, etc.) across tests and use these features as predictors.\n",
        "\n",
        "**3. Model Without Aggregating:** We'll also use the raw data so the model can learn from it directly, which could be beneficial for patterns that aggregate features might miss.\n",
        "\n",
        " **ALGORITHMS-MODELS**\n",
        "\n",
        " * **Linear Regression Model**\n",
        " * **Support Vector Machine**\n",
        " * **k-Nearest Neighbourhood**\n",
        " * **Gradient Bosting Machine**\n",
        " * **Random Forest**\n"
      ]
    },
    {
      "cell_type": "code",
      "execution_count": 35,
      "metadata": {
        "colab": {
          "base_uri": "https://localhost:8080/",
          "height": 0
        },
        "id": "32soGJ0TM89J",
        "outputId": "a3efd545-ac59-47c9-bcd0-5a831d0cbe4a"
      },
      "outputs": [
        {
          "output_type": "execute_result",
          "data": {
            "text/plain": [
              "            ID                      symptoms       Fecha  Edad   Sexo  \\\n",
              "0  UOC00035209  hiperlipidemia, sedentarismo  2020-12-22    54  Mujer   \n",
              "1  UOC00035209  hiperlipidemia, sedentarismo  2020-12-22    54  Mujer   \n",
              "2  UOC00035209  hiperlipidemia, sedentarismo  2020-12-22    54  Mujer   \n",
              "3  UOC00035209  hiperlipidemia, sedentarismo  2020-12-22    54  Mujer   \n",
              "4  UOC00035209  hiperlipidemia, sedentarismo  2020-12-22    54  Mujer   \n",
              "\n",
              "           Prueba  Resultado  Rango_Inferior  Rango_Superior diagnostic  \\\n",
              "0      Colesterol      181.0            70.0             200   diabetic   \n",
              "1  HDL-Colesterol       65.0            40.0              60   diabetic   \n",
              "2  Hb-Glicosilada        7.6             3.5               6   diabetic   \n",
              "3   LDL-Calculado       90.0             0.0             100   diabetic   \n",
              "4   Trigliceridos      129.0            35.0             200   diabetic   \n",
              "\n",
              "   Sexo_Mujer  Prueba_HDL-Colesterol  Prueba_Hb-Glicosilada  \\\n",
              "0         1.0                    0.0                    0.0   \n",
              "1         1.0                    1.0                    0.0   \n",
              "2         1.0                    0.0                    1.0   \n",
              "3         1.0                    0.0                    0.0   \n",
              "4         1.0                    0.0                    0.0   \n",
              "\n",
              "   Prueba_LDL-Calculado  Prueba_Trigliceridos  diagnostic_non_diabetic  \n",
              "0                   0.0                   0.0                      0.0  \n",
              "1                   0.0                   0.0                      0.0  \n",
              "2                   0.0                   0.0                      0.0  \n",
              "3                   1.0                   0.0                      0.0  \n",
              "4                   0.0                   1.0                      0.0  "
            ],
            "text/html": [
              "\n",
              "  <div id=\"df-0a344490-1d4e-46c8-be9f-2ac3a58f070f\" class=\"colab-df-container\">\n",
              "    <div>\n",
              "<style scoped>\n",
              "    .dataframe tbody tr th:only-of-type {\n",
              "        vertical-align: middle;\n",
              "    }\n",
              "\n",
              "    .dataframe tbody tr th {\n",
              "        vertical-align: top;\n",
              "    }\n",
              "\n",
              "    .dataframe thead th {\n",
              "        text-align: right;\n",
              "    }\n",
              "</style>\n",
              "<table border=\"1\" class=\"dataframe\">\n",
              "  <thead>\n",
              "    <tr style=\"text-align: right;\">\n",
              "      <th></th>\n",
              "      <th>ID</th>\n",
              "      <th>symptoms</th>\n",
              "      <th>Fecha</th>\n",
              "      <th>Edad</th>\n",
              "      <th>Sexo</th>\n",
              "      <th>Prueba</th>\n",
              "      <th>Resultado</th>\n",
              "      <th>Rango_Inferior</th>\n",
              "      <th>Rango_Superior</th>\n",
              "      <th>diagnostic</th>\n",
              "      <th>Sexo_Mujer</th>\n",
              "      <th>Prueba_HDL-Colesterol</th>\n",
              "      <th>Prueba_Hb-Glicosilada</th>\n",
              "      <th>Prueba_LDL-Calculado</th>\n",
              "      <th>Prueba_Trigliceridos</th>\n",
              "      <th>diagnostic_non_diabetic</th>\n",
              "    </tr>\n",
              "  </thead>\n",
              "  <tbody>\n",
              "    <tr>\n",
              "      <th>0</th>\n",
              "      <td>UOC00035209</td>\n",
              "      <td>hiperlipidemia, sedentarismo</td>\n",
              "      <td>2020-12-22</td>\n",
              "      <td>54</td>\n",
              "      <td>Mujer</td>\n",
              "      <td>Colesterol</td>\n",
              "      <td>181.0</td>\n",
              "      <td>70.0</td>\n",
              "      <td>200</td>\n",
              "      <td>diabetic</td>\n",
              "      <td>1.0</td>\n",
              "      <td>0.0</td>\n",
              "      <td>0.0</td>\n",
              "      <td>0.0</td>\n",
              "      <td>0.0</td>\n",
              "      <td>0.0</td>\n",
              "    </tr>\n",
              "    <tr>\n",
              "      <th>1</th>\n",
              "      <td>UOC00035209</td>\n",
              "      <td>hiperlipidemia, sedentarismo</td>\n",
              "      <td>2020-12-22</td>\n",
              "      <td>54</td>\n",
              "      <td>Mujer</td>\n",
              "      <td>HDL-Colesterol</td>\n",
              "      <td>65.0</td>\n",
              "      <td>40.0</td>\n",
              "      <td>60</td>\n",
              "      <td>diabetic</td>\n",
              "      <td>1.0</td>\n",
              "      <td>1.0</td>\n",
              "      <td>0.0</td>\n",
              "      <td>0.0</td>\n",
              "      <td>0.0</td>\n",
              "      <td>0.0</td>\n",
              "    </tr>\n",
              "    <tr>\n",
              "      <th>2</th>\n",
              "      <td>UOC00035209</td>\n",
              "      <td>hiperlipidemia, sedentarismo</td>\n",
              "      <td>2020-12-22</td>\n",
              "      <td>54</td>\n",
              "      <td>Mujer</td>\n",
              "      <td>Hb-Glicosilada</td>\n",
              "      <td>7.6</td>\n",
              "      <td>3.5</td>\n",
              "      <td>6</td>\n",
              "      <td>diabetic</td>\n",
              "      <td>1.0</td>\n",
              "      <td>0.0</td>\n",
              "      <td>1.0</td>\n",
              "      <td>0.0</td>\n",
              "      <td>0.0</td>\n",
              "      <td>0.0</td>\n",
              "    </tr>\n",
              "    <tr>\n",
              "      <th>3</th>\n",
              "      <td>UOC00035209</td>\n",
              "      <td>hiperlipidemia, sedentarismo</td>\n",
              "      <td>2020-12-22</td>\n",
              "      <td>54</td>\n",
              "      <td>Mujer</td>\n",
              "      <td>LDL-Calculado</td>\n",
              "      <td>90.0</td>\n",
              "      <td>0.0</td>\n",
              "      <td>100</td>\n",
              "      <td>diabetic</td>\n",
              "      <td>1.0</td>\n",
              "      <td>0.0</td>\n",
              "      <td>0.0</td>\n",
              "      <td>1.0</td>\n",
              "      <td>0.0</td>\n",
              "      <td>0.0</td>\n",
              "    </tr>\n",
              "    <tr>\n",
              "      <th>4</th>\n",
              "      <td>UOC00035209</td>\n",
              "      <td>hiperlipidemia, sedentarismo</td>\n",
              "      <td>2020-12-22</td>\n",
              "      <td>54</td>\n",
              "      <td>Mujer</td>\n",
              "      <td>Trigliceridos</td>\n",
              "      <td>129.0</td>\n",
              "      <td>35.0</td>\n",
              "      <td>200</td>\n",
              "      <td>diabetic</td>\n",
              "      <td>1.0</td>\n",
              "      <td>0.0</td>\n",
              "      <td>0.0</td>\n",
              "      <td>0.0</td>\n",
              "      <td>1.0</td>\n",
              "      <td>0.0</td>\n",
              "    </tr>\n",
              "  </tbody>\n",
              "</table>\n",
              "</div>\n",
              "    <div class=\"colab-df-buttons\">\n",
              "\n",
              "  <div class=\"colab-df-container\">\n",
              "    <button class=\"colab-df-convert\" onclick=\"convertToInteractive('df-0a344490-1d4e-46c8-be9f-2ac3a58f070f')\"\n",
              "            title=\"Convert this dataframe to an interactive table.\"\n",
              "            style=\"display:none;\">\n",
              "\n",
              "  <svg xmlns=\"http://www.w3.org/2000/svg\" height=\"24px\" viewBox=\"0 -960 960 960\">\n",
              "    <path d=\"M120-120v-720h720v720H120Zm60-500h600v-160H180v160Zm220 220h160v-160H400v160Zm0 220h160v-160H400v160ZM180-400h160v-160H180v160Zm440 0h160v-160H620v160ZM180-180h160v-160H180v160Zm440 0h160v-160H620v160Z\"/>\n",
              "  </svg>\n",
              "    </button>\n",
              "\n",
              "  <style>\n",
              "    .colab-df-container {\n",
              "      display:flex;\n",
              "      gap: 12px;\n",
              "    }\n",
              "\n",
              "    .colab-df-convert {\n",
              "      background-color: #E8F0FE;\n",
              "      border: none;\n",
              "      border-radius: 50%;\n",
              "      cursor: pointer;\n",
              "      display: none;\n",
              "      fill: #1967D2;\n",
              "      height: 32px;\n",
              "      padding: 0 0 0 0;\n",
              "      width: 32px;\n",
              "    }\n",
              "\n",
              "    .colab-df-convert:hover {\n",
              "      background-color: #E2EBFA;\n",
              "      box-shadow: 0px 1px 2px rgba(60, 64, 67, 0.3), 0px 1px 3px 1px rgba(60, 64, 67, 0.15);\n",
              "      fill: #174EA6;\n",
              "    }\n",
              "\n",
              "    .colab-df-buttons div {\n",
              "      margin-bottom: 4px;\n",
              "    }\n",
              "\n",
              "    [theme=dark] .colab-df-convert {\n",
              "      background-color: #3B4455;\n",
              "      fill: #D2E3FC;\n",
              "    }\n",
              "\n",
              "    [theme=dark] .colab-df-convert:hover {\n",
              "      background-color: #434B5C;\n",
              "      box-shadow: 0px 1px 3px 1px rgba(0, 0, 0, 0.15);\n",
              "      filter: drop-shadow(0px 1px 2px rgba(0, 0, 0, 0.3));\n",
              "      fill: #FFFFFF;\n",
              "    }\n",
              "  </style>\n",
              "\n",
              "    <script>\n",
              "      const buttonEl =\n",
              "        document.querySelector('#df-0a344490-1d4e-46c8-be9f-2ac3a58f070f button.colab-df-convert');\n",
              "      buttonEl.style.display =\n",
              "        google.colab.kernel.accessAllowed ? 'block' : 'none';\n",
              "\n",
              "      async function convertToInteractive(key) {\n",
              "        const element = document.querySelector('#df-0a344490-1d4e-46c8-be9f-2ac3a58f070f');\n",
              "        const dataTable =\n",
              "          await google.colab.kernel.invokeFunction('convertToInteractive',\n",
              "                                                    [key], {});\n",
              "        if (!dataTable) return;\n",
              "\n",
              "        const docLinkHtml = 'Like what you see? Visit the ' +\n",
              "          '<a target=\"_blank\" href=https://colab.research.google.com/notebooks/data_table.ipynb>data table notebook</a>'\n",
              "          + ' to learn more about interactive tables.';\n",
              "        element.innerHTML = '';\n",
              "        dataTable['output_type'] = 'display_data';\n",
              "        await google.colab.output.renderOutput(dataTable, element);\n",
              "        const docLink = document.createElement('div');\n",
              "        docLink.innerHTML = docLinkHtml;\n",
              "        element.appendChild(docLink);\n",
              "      }\n",
              "    </script>\n",
              "  </div>\n",
              "\n",
              "\n",
              "<div id=\"df-c1b18bd4-9cec-4e93-a9a6-9f06ae475adf\">\n",
              "  <button class=\"colab-df-quickchart\" onclick=\"quickchart('df-c1b18bd4-9cec-4e93-a9a6-9f06ae475adf')\"\n",
              "            title=\"Suggest charts\"\n",
              "            style=\"display:none;\">\n",
              "\n",
              "<svg xmlns=\"http://www.w3.org/2000/svg\" height=\"24px\"viewBox=\"0 0 24 24\"\n",
              "     width=\"24px\">\n",
              "    <g>\n",
              "        <path d=\"M19 3H5c-1.1 0-2 .9-2 2v14c0 1.1.9 2 2 2h14c1.1 0 2-.9 2-2V5c0-1.1-.9-2-2-2zM9 17H7v-7h2v7zm4 0h-2V7h2v10zm4 0h-2v-4h2v4z\"/>\n",
              "    </g>\n",
              "</svg>\n",
              "  </button>\n",
              "\n",
              "<style>\n",
              "  .colab-df-quickchart {\n",
              "      --bg-color: #E8F0FE;\n",
              "      --fill-color: #1967D2;\n",
              "      --hover-bg-color: #E2EBFA;\n",
              "      --hover-fill-color: #174EA6;\n",
              "      --disabled-fill-color: #AAA;\n",
              "      --disabled-bg-color: #DDD;\n",
              "  }\n",
              "\n",
              "  [theme=dark] .colab-df-quickchart {\n",
              "      --bg-color: #3B4455;\n",
              "      --fill-color: #D2E3FC;\n",
              "      --hover-bg-color: #434B5C;\n",
              "      --hover-fill-color: #FFFFFF;\n",
              "      --disabled-bg-color: #3B4455;\n",
              "      --disabled-fill-color: #666;\n",
              "  }\n",
              "\n",
              "  .colab-df-quickchart {\n",
              "    background-color: var(--bg-color);\n",
              "    border: none;\n",
              "    border-radius: 50%;\n",
              "    cursor: pointer;\n",
              "    display: none;\n",
              "    fill: var(--fill-color);\n",
              "    height: 32px;\n",
              "    padding: 0;\n",
              "    width: 32px;\n",
              "  }\n",
              "\n",
              "  .colab-df-quickchart:hover {\n",
              "    background-color: var(--hover-bg-color);\n",
              "    box-shadow: 0 1px 2px rgba(60, 64, 67, 0.3), 0 1px 3px 1px rgba(60, 64, 67, 0.15);\n",
              "    fill: var(--button-hover-fill-color);\n",
              "  }\n",
              "\n",
              "  .colab-df-quickchart-complete:disabled,\n",
              "  .colab-df-quickchart-complete:disabled:hover {\n",
              "    background-color: var(--disabled-bg-color);\n",
              "    fill: var(--disabled-fill-color);\n",
              "    box-shadow: none;\n",
              "  }\n",
              "\n",
              "  .colab-df-spinner {\n",
              "    border: 2px solid var(--fill-color);\n",
              "    border-color: transparent;\n",
              "    border-bottom-color: var(--fill-color);\n",
              "    animation:\n",
              "      spin 1s steps(1) infinite;\n",
              "  }\n",
              "\n",
              "  @keyframes spin {\n",
              "    0% {\n",
              "      border-color: transparent;\n",
              "      border-bottom-color: var(--fill-color);\n",
              "      border-left-color: var(--fill-color);\n",
              "    }\n",
              "    20% {\n",
              "      border-color: transparent;\n",
              "      border-left-color: var(--fill-color);\n",
              "      border-top-color: var(--fill-color);\n",
              "    }\n",
              "    30% {\n",
              "      border-color: transparent;\n",
              "      border-left-color: var(--fill-color);\n",
              "      border-top-color: var(--fill-color);\n",
              "      border-right-color: var(--fill-color);\n",
              "    }\n",
              "    40% {\n",
              "      border-color: transparent;\n",
              "      border-right-color: var(--fill-color);\n",
              "      border-top-color: var(--fill-color);\n",
              "    }\n",
              "    60% {\n",
              "      border-color: transparent;\n",
              "      border-right-color: var(--fill-color);\n",
              "    }\n",
              "    80% {\n",
              "      border-color: transparent;\n",
              "      border-right-color: var(--fill-color);\n",
              "      border-bottom-color: var(--fill-color);\n",
              "    }\n",
              "    90% {\n",
              "      border-color: transparent;\n",
              "      border-bottom-color: var(--fill-color);\n",
              "    }\n",
              "  }\n",
              "</style>\n",
              "\n",
              "  <script>\n",
              "    async function quickchart(key) {\n",
              "      const quickchartButtonEl =\n",
              "        document.querySelector('#' + key + ' button');\n",
              "      quickchartButtonEl.disabled = true;  // To prevent multiple clicks.\n",
              "      quickchartButtonEl.classList.add('colab-df-spinner');\n",
              "      try {\n",
              "        const charts = await google.colab.kernel.invokeFunction(\n",
              "            'suggestCharts', [key], {});\n",
              "      } catch (error) {\n",
              "        console.error('Error during call to suggestCharts:', error);\n",
              "      }\n",
              "      quickchartButtonEl.classList.remove('colab-df-spinner');\n",
              "      quickchartButtonEl.classList.add('colab-df-quickchart-complete');\n",
              "    }\n",
              "    (() => {\n",
              "      let quickchartButtonEl =\n",
              "        document.querySelector('#df-c1b18bd4-9cec-4e93-a9a6-9f06ae475adf button');\n",
              "      quickchartButtonEl.style.display =\n",
              "        google.colab.kernel.accessAllowed ? 'block' : 'none';\n",
              "    })();\n",
              "  </script>\n",
              "</div>\n",
              "\n",
              "    </div>\n",
              "  </div>\n"
            ],
            "application/vnd.google.colaboratory.intrinsic+json": {
              "type": "dataframe",
              "variable_name": "data"
            }
          },
          "metadata": {},
          "execution_count": 35
        }
      ],
      "source": [
        "# Load data\n",
        "data = pd.read_table('/content/drive/MyDrive/TFM 2024/Dades/final_merged_data.csv', sep =\",\")\n",
        "data.head()"
      ]
    },
    {
      "cell_type": "markdown",
      "metadata": {
        "id": "91FI8T7GOV5i"
      },
      "source": [
        "### **LAST TEST MODEL**"
      ]
    },
    {
      "cell_type": "markdown",
      "metadata": {
        "id": "GNIGSrC7XN7p"
      },
      "source": [
        "##### **DATA PRE-PROCESSING**"
      ]
    },
    {
      "cell_type": "code",
      "execution_count": 17,
      "metadata": {
        "id": "fUwNfgNeOWT-"
      },
      "outputs": [],
      "source": [
        "# Keep only the latest test for each participant and Prueba\n",
        "data_latest = data.sort_values(by=['ID', 'Prueba', 'Fecha']).groupby(['ID', 'Prueba']).tail(1)\n",
        "\n",
        "# Define predictors and outcome\n",
        "X_latest = data_latest[['Edad', 'Sexo', 'symptoms', 'Prueba', 'Resultado']]\n",
        "y_latest = (data_latest['diagnostic'] == 'diabetic').astype(int) # Binary target: 1 = diabetic, 0 = non-diabetic\n",
        "\n",
        "# Preprocessing pipeline\n",
        "preprocessor = ColumnTransformer(\n",
        "    transformers=[\n",
        "        ('num', StandardScaler(), ['Resultado', 'Edad']),\n",
        "        ('cat', OneHotEncoder(handle_unknown='ignore'), ['Sexo', 'symptoms', 'Prueba'])\n",
        "    ]\n",
        ")\n",
        "\n",
        "# Train-test split\n",
        "X_train_latest, X_test_latest, y_train_latest, y_test_latest = train_test_split(X_latest, y_latest, test_size=0.2, random_state=42)\n",
        "\n",
        "# Preprocess the data\n",
        "X_train_processed = preprocessor.fit_transform(X_train_latest)\n",
        "X_test_processed = preprocessor.transform(X_test_latest)"
      ]
    },
    {
      "cell_type": "code",
      "execution_count": 18,
      "metadata": {
        "colab": {
          "base_uri": "https://localhost:8080/"
        },
        "id": "jj6kHYyFPzG1",
        "outputId": "a72ee42b-8c68-47fe-8fdd-ee7d5fde74c1"
      },
      "outputs": [
        {
          "output_type": "stream",
          "name": "stdout",
          "text": [
            "Example Data INPUT for Latest Test Model:\n",
            "                  ID         symptoms       Fecha  Edad    Sexo  \\\n",
            "1176392  UOC00028388  sin diagnostico  2021-04-26    52  Hombre   \n",
            "1176400  UOC00028388  sin diagnostico  2021-04-26    52  Hombre   \n",
            "1176402  UOC00028388  sin diagnostico  2020-05-20    52  Hombre   \n",
            "1176404  UOC00028388  sin diagnostico  2021-04-26    52  Hombre   \n",
            "1176399  UOC00028388  sin diagnostico  2021-04-26    52  Hombre   \n",
            "\n",
            "                 Prueba  Resultado  Rango_Inferior  Rango_Superior  \n",
            "1176392      Colesterol      170.0            70.0             200  \n",
            "1176400  HDL-Colesterol       77.0            40.0              60  \n",
            "1176402  Hb-Glicosilada        5.0             3.5               6  \n",
            "1176404   LDL-Calculado       76.0             0.0             100  \n",
            "1176399   Trigliceridos       86.0            30.0             200  \n"
          ]
        }
      ],
      "source": [
        "# Example input data for Latest Test Model\n",
        "example_latest = data.sort_values(by=['ID', 'Prueba', 'Fecha']).groupby(['ID', 'Prueba']).tail(1).head(5)\n",
        "print(\"Example Data INPUT for Latest Test Model:\")\n",
        "print(example_latest[['ID', 'symptoms', 'Fecha', 'Edad', 'Sexo', 'Prueba', 'Resultado', 'Rango_Inferior', 'Rango_Superior']])"
      ]
    },
    {
      "cell_type": "markdown",
      "metadata": {
        "id": "AKJRw2ySPdpZ"
      },
      "source": [
        "##### **LOGISTIC REGRESSION (LR)**\n"
      ]
    },
    {
      "cell_type": "code",
      "execution_count": 19,
      "metadata": {
        "id": "rJzugqpW73pW"
      },
      "outputs": [],
      "source": [
        "# Metrics DataFrame\n",
        "metrics_df = pd.DataFrame(columns=['Model', 'Metric', 'Precision', 'Recall', 'F1-Score', 'Accuracy', 'ROC-AUC', 'Runtime'])\n"
      ]
    },
    {
      "cell_type": "code",
      "execution_count": 20,
      "metadata": {
        "colab": {
          "base_uri": "https://localhost:8080/"
        },
        "id": "U3dLC8emPs2Q",
        "outputId": "60917a20-3d04-4b4c-fc3d-4b2b90ef85c1"
      },
      "outputs": [
        {
          "output_type": "stream",
          "name": "stdout",
          "text": [
            "Model: Logistic Regression (Latest Test)\n",
            "Class 0 (Non-Diabetic):\n",
            "  - Precision: 0.8732, Recall: 0.9363, F1-Score: 0.9037\n",
            "Class 1 (Diabetic):\n",
            "  - Precision: 0.9367, Recall: 0.8740, F1-Score: 0.9043\n",
            "Macro Average:\n",
            "  - Precision: 0.9050, Recall: 0.9051, F1-Score: 0.9040\n",
            "Weighted Average:\n",
            "  - Precision: 0.9062, Recall: 0.9040, F1-Score: 0.9040\n",
            "Accuracy: 0.9040\n",
            "ROC-AUC: 0.9788\n",
            "Runtime: 0.12 seconds\n",
            "\n"
          ]
        },
        {
          "output_type": "execute_result",
          "data": {
            "text/plain": [
              "['/content/drive/MyDrive/TFM 2024/results/logistic_regression_latest_test.joblib']"
            ]
          },
          "metadata": {},
          "execution_count": 20
        }
      ],
      "source": [
        "# 1. Logistic Regression\n",
        "latest_test_results = {}\n",
        "\n",
        "# Logistic Regression\n",
        "start_time = time.time()\n",
        "model_lr_latest = LogisticRegression(max_iter=1000)\n",
        "model_lr_latest.fit(X_train_processed, y_train_latest)\n",
        "y_pred_lr_latest = model_lr_latest.predict(X_test_processed)\n",
        "y_proba_lr_latest = model_lr_latest.predict_proba(X_test_processed)[:, 1]\n",
        "latest_test_results[\"Logistic Regression\"] = (y_test_latest, y_proba_lr_latest)\n",
        "log_metrics_detailed(\"Logistic Regression (Latest Test)\", y_test_latest, y_pred_lr_latest, y_proba_lr_latest, start_time)\n",
        "\n",
        "# Save Logistic Regression model\n",
        "joblib.dump(model_lr_latest, os.path.join(results_dir, \"logistic_regression_latest_test.joblib\"))"
      ]
    },
    {
      "cell_type": "markdown",
      "metadata": {
        "id": "-uTMRbDbvy0l"
      },
      "source": [
        "##### **SUPPORT VECTOR MACHINE MODEL (SVM)**"
      ]
    },
    {
      "cell_type": "code",
      "execution_count": 21,
      "metadata": {
        "colab": {
          "base_uri": "https://localhost:8080/"
        },
        "id": "jdB3Jct9upU9",
        "outputId": "cfa51d27-8deb-467d-e121-7da9c2f995cb"
      },
      "outputs": [
        {
          "output_type": "stream",
          "name": "stdout",
          "text": [
            "Model: SVM (CPU - Latest Test)\n",
            "Class 0 (Non-Diabetic):\n",
            "  - Precision: 0.8989, Recall: 0.9220, F1-Score: 0.9103\n",
            "Class 1 (Diabetic):\n",
            "  - Precision: 0.9259, Recall: 0.9039, F1-Score: 0.9148\n",
            "Macro Average:\n",
            "  - Precision: 0.9124, Recall: 0.9129, F1-Score: 0.9125\n",
            "Weighted Average:\n",
            "  - Precision: 0.9129, Recall: 0.9126, F1-Score: 0.9126\n",
            "Accuracy: 0.9126\n",
            "ROC-AUC: 0.9726\n",
            "Runtime: 42.02 seconds\n",
            "\n"
          ]
        },
        {
          "output_type": "execute_result",
          "data": {
            "text/plain": [
              "['/content/drive/MyDrive/TFM 2024/results/svm_cpu_latest_test.joblib']"
            ]
          },
          "metadata": {},
          "execution_count": 21
        }
      ],
      "source": [
        "# 2. Support Vector Machine (CPU)\n",
        "start_time = time.time()\n",
        "model_svc_latest = SklearnSVC(kernel='rbf', C=1, gamma='scale', probability=True)\n",
        "model_svc_latest.fit(X_train_processed, y_train_latest)\n",
        "y_pred_svc_latest = model_svc_latest.predict(X_test_processed)\n",
        "y_proba_svc_latest = model_svc_latest.predict_proba(X_test_processed)[:, 1]\n",
        "latest_test_results[\"SVM (CPU)\"] = (y_test_latest, y_proba_svc_latest)\n",
        "log_metrics_detailed(\"SVM (CPU - Latest Test)\", y_test_latest, y_pred_svc_latest, y_proba_svc_latest, start_time)\n",
        "\n",
        "joblib.dump(model_svc_latest, os.path.join(results_dir, \"svm_cpu_latest_test.joblib\"))"
      ]
    },
    {
      "cell_type": "markdown",
      "metadata": {
        "id": "-FCFZA-WSlgy"
      },
      "source": [
        "##### **K-NEAREST NEIGHBOURHOOD MODEL (KNN)**"
      ]
    },
    {
      "cell_type": "code",
      "execution_count": 22,
      "metadata": {
        "colab": {
          "base_uri": "https://localhost:8080/"
        },
        "id": "6mLhrX2ljh1I",
        "outputId": "e1ffbc63-d8c2-4229-c14d-32f78b300025"
      },
      "outputs": [
        {
          "output_type": "stream",
          "name": "stdout",
          "text": [
            "Model: Faiss k-NN (Latest Test)\n",
            "Class 0 (Non-Diabetic):\n",
            "  - Precision: 0.8909, Recall: 0.9183, F1-Score: 0.9044\n",
            "Class 1 (Diabetic):\n",
            "  - Precision: 0.9221, Recall: 0.8958, F1-Score: 0.9087\n",
            "Macro Average:\n",
            "  - Precision: 0.9065, Recall: 0.9070, F1-Score: 0.9066\n",
            "Weighted Average:\n",
            "  - Precision: 0.9071, Recall: 0.9066, F1-Score: 0.9066\n",
            "Accuracy: 0.9066\n",
            "ROC-AUC: 0.9696\n",
            "Runtime: 0.19 seconds\n",
            "\n",
            "FAISS index saved successfully to: /content/drive/MyDrive/TFM 2024/results/faiss_knn_latest_test.index\n"
          ]
        }
      ],
      "source": [
        "# 3. K-Nearest Neighbourhood for Latest Test\n",
        "start_time = time.time()\n",
        "\n",
        "# Convert data to float32 arrays\n",
        "X_train_f32 = np.array(X_train_processed.todense(), dtype='float32') if hasattr(X_train_processed, \"todense\") else np.array(X_train_processed, dtype='float32')\n",
        "X_test_f32 = np.array(X_test_processed.todense(), dtype='float32') if hasattr(X_test_processed, \"todense\") else np.array(X_test_processed, dtype='float32')\n",
        "\n",
        "# Define FAISS resources and GPU index\n",
        "dimension = X_train_f32.shape[1]\n",
        "res = faiss.StandardGpuResources()\n",
        "index = faiss.IndexFlatL2(dimension)\n",
        "gpu_index_latest = faiss.index_cpu_to_gpu(res, 0, index)  # Use descriptive name\n",
        "\n",
        "# Add training data to the GPU index\n",
        "gpu_index_latest.add(X_train_f32)\n",
        "\n",
        "# Perform k-NN search\n",
        "distances, indices = gpu_index_latest.search(X_test_f32, k=5)\n",
        "y_train_array = y_train_latest.to_numpy() if hasattr(y_train_latest, \"to_numpy\") else np.array(y_train_latest)\n",
        "\n",
        "# Majority voting for classification\n",
        "y_pred_faiss_latest = np.array([np.argmax(np.bincount(y_train_array[neighbor_indices])) for neighbor_indices in indices])\n",
        "y_proba_faiss_latest = np.array([np.mean(y_train_array[neighbor_indices]) for neighbor_indices in indices])\n",
        "\n",
        "# Log results\n",
        "latest_test_results[\"Faiss k-NN\"] = (y_test_latest, y_proba_faiss_latest)\n",
        "log_metrics_detailed(\"Faiss k-NN (Latest Test)\", y_test_latest, y_pred_faiss_latest, y_proba_faiss_latest, start_time)\n",
        "\n",
        "# Save FAISS index\n",
        "save_faiss_index(gpu_index_latest, os.path.join(results_dir, \"faiss_knn_latest_test.index\"))\n"
      ]
    },
    {
      "cell_type": "markdown",
      "metadata": {
        "id": "OxDqRah1WPiT"
      },
      "source": [
        "##### **GRADIENT BOOSTING MACHINE MODEL (GBM)**"
      ]
    },
    {
      "cell_type": "code",
      "execution_count": 23,
      "metadata": {
        "colab": {
          "base_uri": "https://localhost:8080/"
        },
        "id": "sKzBFyqGCxXQ",
        "outputId": "e9f3dd73-6f3a-4417-8732-bfdb6c801c50"
      },
      "outputs": [
        {
          "output_type": "stream",
          "name": "stdout",
          "text": [
            "Model: XGBoost (Latest Test)\n",
            "Class 0 (Non-Diabetic):\n",
            "  - Precision: 0.8914, Recall: 0.9502, F1-Score: 0.9199\n",
            "Class 1 (Diabetic):\n",
            "  - Precision: 0.9508, Recall: 0.8927, F1-Score: 0.9208\n",
            "Macro Average:\n",
            "  - Precision: 0.9211, Recall: 0.9214, F1-Score: 0.9203\n",
            "Weighted Average:\n",
            "  - Precision: 0.9222, Recall: 0.9204, F1-Score: 0.9204\n",
            "Accuracy: 0.9204\n",
            "ROC-AUC: 0.9840\n",
            "Runtime: 0.20 seconds\n",
            "\n"
          ]
        },
        {
          "output_type": "execute_result",
          "data": {
            "text/plain": [
              "['/content/drive/MyDrive/TFM 2024/results/xgboost_latest_test.pkl']"
            ]
          },
          "metadata": {},
          "execution_count": 23
        }
      ],
      "source": [
        "# 4. XGBoost\n",
        "start_time = time.time()\n",
        "xgb_latest = XGBClassifier(n_estimators=100, max_depth=5, learning_rate=0.1, random_state=42)\n",
        "xgb_latest.fit(X_train_processed, y_train_latest)\n",
        "y_pred_xgb_latest = xgb_latest.predict(X_test_processed)\n",
        "y_proba_xgb_latest = xgb_latest.predict_proba(X_test_processed)[:, 1]\n",
        "latest_test_results[\"XGBoost\"] = (y_test_latest, y_proba_xgb_latest)\n",
        "log_metrics_detailed(\"XGBoost (Latest Test)\", y_test_latest, y_pred_xgb_latest, y_proba_xgb_latest, start_time)\n",
        "\n",
        "joblib.dump(xgb_latest, os.path.join(results_dir, \"xgboost_latest_test.pkl\"))\n"
      ]
    },
    {
      "cell_type": "markdown",
      "metadata": {
        "id": "vLzqTbl6WR4x"
      },
      "source": [
        "##### **RANDOM FOREST MODEL (RF)**"
      ]
    },
    {
      "cell_type": "code",
      "execution_count": 24,
      "metadata": {
        "colab": {
          "base_uri": "https://localhost:8080/"
        },
        "id": "j8DyvrpaCznW",
        "outputId": "27bf9d07-b9f7-4aa7-d27c-bd7f42a29e12"
      },
      "outputs": [
        {
          "output_type": "stream",
          "name": "stdout",
          "text": [
            "Model: Random Forest (Latest Test)\n",
            "Class 0 (Non-Diabetic):\n",
            "  - Precision: 0.9255, Recall: 0.8963, F1-Score: 0.9107\n",
            "Class 1 (Diabetic):\n",
            "  - Precision: 0.9066, Recall: 0.9331, F1-Score: 0.9197\n",
            "Macro Average:\n",
            "  - Precision: 0.9161, Recall: 0.9147, F1-Score: 0.9152\n",
            "Weighted Average:\n",
            "  - Precision: 0.9157, Recall: 0.9154, F1-Score: 0.9154\n",
            "Accuracy: 0.9154\n",
            "ROC-AUC: 0.9819\n",
            "Runtime: 0.99 seconds\n",
            "\n"
          ]
        },
        {
          "output_type": "execute_result",
          "data": {
            "text/plain": [
              "['/content/drive/MyDrive/TFM 2024/results/random_forest_latest_test.joblib']"
            ]
          },
          "metadata": {},
          "execution_count": 24
        }
      ],
      "source": [
        "# 5. Random Forest\n",
        "start_time = time.time()\n",
        "rf_latest = RandomForestClassifier(n_estimators=100, max_depth=10, random_state=42)\n",
        "rf_latest.fit(X_train_processed, y_train_latest)\n",
        "y_pred_rf_latest = rf_latest.predict(X_test_processed)\n",
        "y_proba_rf_latest = rf_latest.predict_proba(X_test_processed)[:, 1]\n",
        "latest_test_results[\"Random Forest\"] = (y_test_latest, y_proba_rf_latest)\n",
        "log_metrics_detailed(\"Random Forest (Latest Test)\", y_test_latest, y_pred_rf_latest, y_proba_rf_latest, start_time)\n",
        "\n",
        "joblib.dump(rf_latest, os.path.join(results_dir, \"random_forest_latest_test.joblib\"))\n"
      ]
    },
    {
      "cell_type": "code",
      "execution_count": 25,
      "metadata": {
        "colab": {
          "base_uri": "https://localhost:8080/"
        },
        "id": "kZ0ZqJA3_MUr",
        "outputId": "888bdc31-f708-4c63-ea65-78aa041076af"
      },
      "outputs": [
        {
          "output_type": "stream",
          "name": "stdout",
          "text": [
            "Metrics for all models saved to 'metrics_all_models.csv'.\n"
          ]
        }
      ],
      "source": [
        "# Save metrics to CSV\n",
        "metrics_df.to_csv('/content/drive/MyDrive/TFM 2024/results/metrics_last_test_all_models.csv', index=False)\n",
        "print(\"Metrics for all models saved to 'metrics_all_models.csv'.\")"
      ]
    },
    {
      "cell_type": "markdown",
      "metadata": {
        "id": "_cEdGxriOfzg"
      },
      "source": [
        "### **AGGREGATED FEATURES MODEL**"
      ]
    },
    {
      "cell_type": "markdown",
      "metadata": {
        "id": "OUrL-7VFXDfI"
      },
      "source": [
        "##### **DATA PRE-PROCESSING**"
      ]
    },
    {
      "cell_type": "code",
      "source": [
        "# Aggregated Features Approach\n",
        "aggregated_results = {}\n",
        "\n",
        "# Aggregate Features for Model by Prueba, ID, and Fecha\n",
        "data_agg = data.groupby(['ID', 'Fecha', 'Prueba']).agg({\n",
        "    'Resultado': ['mean', 'std', 'max', 'min'],  # Test-specific statistics\n",
        "    'Edad': 'first',\n",
        "    'Sexo': 'first',\n",
        "    'symptoms': 'first',\n",
        "    'diagnostic': 'first'\n",
        "}).reset_index()\n",
        "\n",
        "# Flatten MultiIndex column names in data_agg\n",
        "data_agg.columns = ['_'.join(col).strip('_') if isinstance(col, tuple) else col for col in data_agg.columns]\n",
        "\n",
        "# Expand each Prueba as separate features\n",
        "pruebas = data['Prueba'].unique()\n",
        "for prueba in pruebas:\n",
        "    prueba_data = data[data['Prueba'] == prueba].groupby(['ID', 'Fecha']).agg({\n",
        "        'Resultado': ['mean', 'std', 'max', 'min']\n",
        "    }).reset_index()\n",
        "\n",
        "    # Flatten MultiIndex column names in prueba_data\n",
        "    prueba_data.columns = [\n",
        "        col if isinstance(col, str) else f\"{prueba}_{col[1]}\" if col[1] else col[0]\n",
        "        for col in prueba_data.columns\n",
        "    ]\n",
        "\n",
        "    # Merge test-specific features with aggregated data\n",
        "    data_agg = data_agg.merge(prueba_data, on=['ID', 'Fecha'], how='left')\n",
        "\n",
        "# Features and target (exclude generic 'Resultado_*' columns)\n",
        "feature_columns = [\n",
        "    col for col in data_agg.columns\n",
        "    if col not in ['ID', 'Fecha', 'Prueba', 'diagnostic_first'] and not col.startswith(\"Resultado_\")\n",
        "]\n",
        "X_agg = data_agg[feature_columns]\n",
        "y_agg = (data_agg['diagnostic_first'] == 'diabetic').astype(int)\n",
        "\n",
        "# Train-test split\n",
        "X_train_agg, X_test_agg, y_train_agg, y_test_agg = train_test_split(X_agg, y_agg, test_size=0.2, random_state=42)\n",
        "\n",
        "# Preprocessing\n",
        "numerical_features = [\n",
        "    col for col in feature_columns if col.endswith(('_mean', '_std', '_max', '_min', 'Edad_first'))\n",
        "]\n",
        "categorical_features = ['Sexo_first', 'symptoms_first']\n",
        "\n",
        "preprocessor_agg = ColumnTransformer(\n",
        "    transformers=[\n",
        "        ('num', Pipeline([('imputer', SimpleImputer(strategy='mean')), ('scaler', StandardScaler())]), numerical_features),\n",
        "        ('cat', OneHotEncoder(handle_unknown='ignore'), categorical_features)\n",
        "    ]\n",
        ")\n",
        "\n",
        "# Preprocess the data\n",
        "X_train_processed = preprocessor_agg.fit_transform(X_train_agg)\n",
        "joblib.dump(preprocessor_agg, \"/content/drive/MyDrive/TFM 2024/results/preprocessor_agg.joblib\")\n",
        "\n",
        "X_test_processed = preprocessor_agg.transform(X_test_agg)"
      ],
      "metadata": {
        "id": "iPaEFvwYMI8r"
      },
      "execution_count": 9,
      "outputs": []
    },
    {
      "cell_type": "code",
      "execution_count": 10,
      "metadata": {
        "id": "TjaRXDpXMAjq"
      },
      "outputs": [],
      "source": [
        "# Metrics DataFrame\n",
        "metrics_df = pd.DataFrame(columns=['Model', 'Metric', 'Precision', 'Recall', 'F1-Score', 'Accuracy', 'ROC-AUC', 'Runtime'])"
      ]
    },
    {
      "cell_type": "markdown",
      "metadata": {
        "id": "-B_4BPnsyle5"
      },
      "source": [
        "##### **LOGISTIC REGRESSION (LR)**\n"
      ]
    },
    {
      "cell_type": "code",
      "execution_count": 11,
      "metadata": {
        "colab": {
          "base_uri": "https://localhost:8080/"
        },
        "id": "qut5VQvppOwE",
        "outputId": "3066e87d-14db-41dc-dfe4-e8af9d1e05d2"
      },
      "outputs": [
        {
          "output_type": "stream",
          "name": "stdout",
          "text": [
            "Model: Logistic Regression (Aggregated)\n",
            "Class 0 (Non-Diabetic):\n",
            "  - Precision: 0.9002, Recall: 0.9214, F1-Score: 0.9107\n",
            "Class 1 (Diabetic):\n",
            "  - Precision: 0.9544, Recall: 0.9416, F1-Score: 0.9479\n",
            "Macro Average:\n",
            "  - Precision: 0.9273, Recall: 0.9315, F1-Score: 0.9293\n",
            "Weighted Average:\n",
            "  - Precision: 0.9347, Recall: 0.9342, F1-Score: 0.9344\n",
            "Accuracy: 0.9342\n",
            "ROC-AUC: 0.9872\n",
            "Runtime: 0.97 seconds\n",
            "\n"
          ]
        },
        {
          "output_type": "execute_result",
          "data": {
            "text/plain": [
              "['/content/drive/MyDrive/TFM 2024/results/logistic_regression_agg_test.joblib']"
            ]
          },
          "metadata": {},
          "execution_count": 11
        }
      ],
      "source": [
        "# 1. Logistic Regression\n",
        "start_time = time.time()\n",
        "model_lr_agg = LogisticRegression(max_iter=1000)\n",
        "model_lr_agg.fit(X_train_processed, y_train_agg)\n",
        "y_pred_lr_agg = model_lr_agg.predict(X_test_processed)\n",
        "y_proba_lr_agg = model_lr_agg.predict_proba(X_test_processed)[:, 1]\n",
        "aggregated_results[\"Logistic Regression\"] = (y_test_agg, y_proba_lr_agg)\n",
        "log_metrics_detailed(\"Logistic Regression (Aggregated)\", y_test_agg, y_pred_lr_agg, y_proba_lr_agg, start_time)\n",
        "joblib.dump(model_lr_agg, os.path.join(results_dir, \"logistic_regression_agg_test.joblib\"))\n",
        "\n"
      ]
    },
    {
      "cell_type": "markdown",
      "metadata": {
        "id": "QAn7069c1LVB"
      },
      "source": [
        "##### **SUPPORT VECTOR MACHINE MODEL (SVM)**"
      ]
    },
    {
      "cell_type": "code",
      "execution_count": 12,
      "metadata": {
        "colab": {
          "base_uri": "https://localhost:8080/"
        },
        "id": "D2lJPx301TBI",
        "outputId": "14138bd3-f6c2-4285-85a6-57ce49a1c318"
      },
      "outputs": [
        {
          "output_type": "stream",
          "name": "stdout",
          "text": [
            "Model: SVM (GPU - Aggregated)\n",
            "Class 0 (Non-Diabetic):\n",
            "  - Precision: 0.9186, Recall: 0.9385, F1-Score: 0.9285\n",
            "Class 1 (Diabetic):\n",
            "  - Precision: 0.9644, Recall: 0.9524, F1-Score: 0.9584\n",
            "Macro Average:\n",
            "  - Precision: 0.9415, Recall: 0.9455, F1-Score: 0.9434\n",
            "Weighted Average:\n",
            "  - Precision: 0.9477, Recall: 0.9474, F1-Score: 0.9475\n",
            "Accuracy: 0.9474\n",
            "ROC-AUC: 0.9888\n",
            "Runtime: 13.80 seconds\n",
            "\n"
          ]
        },
        {
          "output_type": "execute_result",
          "data": {
            "text/plain": [
              "['/content/drive/MyDrive/TFM 2024/results/svm_gpu_agg_test.joblib']"
            ]
          },
          "metadata": {},
          "execution_count": 12
        }
      ],
      "source": [
        "# 2. SVM (GPU)\n",
        "start_time = time.time()\n",
        "model_svc_agg = CuMLSVC(kernel='rbf', C=1, probability=True)\n",
        "model_svc_agg.fit(X_train_processed, y_train_agg.to_numpy())\n",
        "y_pred_svc_agg = model_svc_agg.predict(X_test_processed)\n",
        "y_proba_svc_agg = model_svc_agg.predict_proba(X_test_processed)[:, 1]\n",
        "aggregated_results[\"SVM (GPU)\"] = (y_test_agg, y_proba_svc_agg)\n",
        "log_metrics_detailed(\"SVM (GPU - Aggregated)\", y_test_agg, y_pred_svc_agg, y_proba_svc_agg, start_time)\n",
        "joblib.dump(model_svc_agg, os.path.join(results_dir, \"svm_gpu_agg_test.joblib\"))\n"
      ]
    },
    {
      "cell_type": "markdown",
      "metadata": {
        "id": "niYs_2R8VJzt"
      },
      "source": [
        "##### **K-NEAREST NEIGHBOURHOOD MODEL (KNN)**"
      ]
    },
    {
      "cell_type": "code",
      "execution_count": 13,
      "metadata": {
        "colab": {
          "base_uri": "https://localhost:8080/"
        },
        "id": "JVTV6YYalv14",
        "outputId": "301a3153-5ad1-4e2d-c110-795af57204a2"
      },
      "outputs": [
        {
          "output_type": "stream",
          "name": "stdout",
          "text": [
            "Model: Faiss k-NN (Aggregated Features)\n",
            "Class 0 (Non-Diabetic):\n",
            "  - Precision: 0.9673, Recall: 0.9622, F1-Score: 0.9647\n",
            "Class 1 (Diabetic):\n",
            "  - Precision: 0.9784, Recall: 0.9814, F1-Score: 0.9799\n",
            "Macro Average:\n",
            "  - Precision: 0.9728, Recall: 0.9718, F1-Score: 0.9723\n",
            "Weighted Average:\n",
            "  - Precision: 0.9744, Recall: 0.9744, F1-Score: 0.9744\n",
            "Accuracy: 0.9744\n",
            "ROC-AUC: 0.9976\n",
            "Runtime: 1.14 seconds\n",
            "\n",
            "FAISS index saved successfully to: /content/drive/MyDrive/TFM 2024/results/faiss_knn_aggregated_features.index\n"
          ]
        }
      ],
      "source": [
        "start_time = time.time()\n",
        "\n",
        "# Convert data to float32 arrays\n",
        "X_train_f32 = np.array(X_train_processed.todense(), dtype='float32') if hasattr(X_train_processed, \"todense\") else np.array(X_train_processed, dtype='float32')\n",
        "X_test_f32 = np.array(X_test_processed.todense(), dtype='float32') if hasattr(X_test_processed, \"todense\") else np.array(X_test_processed, dtype='float32')\n",
        "\n",
        "# Define FAISS resources and GPU index\n",
        "dimension = X_train_f32.shape[1]\n",
        "res = faiss.StandardGpuResources()\n",
        "index = faiss.IndexFlatL2(dimension)\n",
        "gpu_index_agg = faiss.index_cpu_to_gpu(res, 0, index)  # Descriptive variable name for Aggregated Features\n",
        "\n",
        "# Add training data to the GPU index\n",
        "gpu_index_agg.add(X_train_f32)\n",
        "\n",
        "# Perform k-NN search\n",
        "distances, indices = gpu_index_agg.search(X_test_f32, k=5)\n",
        "y_train_array = y_train_agg.to_numpy() if hasattr(y_train_agg, \"to_numpy\") else np.array(y_train_agg)\n",
        "\n",
        "# Majority voting for classification\n",
        "y_pred_faiss_agg = np.array([np.argmax(np.bincount(y_train_array[neighbor_indices])) for neighbor_indices in indices])\n",
        "y_proba_faiss_agg = np.array([np.mean(y_train_array[neighbor_indices]) for neighbor_indices in indices])\n",
        "\n",
        "# Log results\n",
        "aggregated_results[\"Faiss k-NN\"] = (y_test_agg, y_proba_faiss_agg)\n",
        "log_metrics_detailed(\"Faiss k-NN (Aggregated Features)\", y_test_agg, y_pred_faiss_agg, y_proba_faiss_agg, start_time)\n",
        "\n",
        "# Save FAISS index\n",
        "save_faiss_index(gpu_index_agg, os.path.join(results_dir, \"faiss_knn_aggregated_features.index\"))\n"
      ]
    },
    {
      "cell_type": "markdown",
      "metadata": {
        "id": "Ha8px8rHW3w5"
      },
      "source": [
        "##### **GRADIENT BOOSTING MACHINE MODEL (GBM)**"
      ]
    },
    {
      "cell_type": "code",
      "execution_count": 14,
      "metadata": {
        "colab": {
          "base_uri": "https://localhost:8080/"
        },
        "id": "g4T_JRUIW3FP",
        "outputId": "fc08e158-64ab-407a-87eb-b23845f0325a"
      },
      "outputs": [
        {
          "output_type": "stream",
          "name": "stdout",
          "text": [
            "Model: XGBoost (Aggregated)\n",
            "Class 0 (Non-Diabetic):\n",
            "  - Precision: 0.9438, Recall: 0.9703, F1-Score: 0.9569\n",
            "Class 1 (Diabetic):\n",
            "  - Precision: 0.9827, Recall: 0.9669, F1-Score: 0.9748\n",
            "Macro Average:\n",
            "  - Precision: 0.9633, Recall: 0.9686, F1-Score: 0.9658\n",
            "Weighted Average:\n",
            "  - Precision: 0.9685, Recall: 0.9682, F1-Score: 0.9682\n",
            "Accuracy: 0.9682\n",
            "ROC-AUC: 0.9961\n",
            "Runtime: 0.85 seconds\n",
            "\n"
          ]
        },
        {
          "output_type": "execute_result",
          "data": {
            "text/plain": [
              "['/content/drive/MyDrive/TFM 2024/results/xgboost_agg_test.pkl']"
            ]
          },
          "metadata": {},
          "execution_count": 14
        }
      ],
      "source": [
        "# 4. XGBoost\n",
        "start_time = time.time()\n",
        "xgb_agg = XGBClassifier(n_estimators=100, max_depth=5, learning_rate=0.1, random_state=42)\n",
        "xgb_agg.fit(X_train_processed, y_train_agg)\n",
        "y_pred_xgb_agg = xgb_agg.predict(X_test_processed)\n",
        "y_proba_xgb_agg = xgb_agg.predict_proba(X_test_processed)[:, 1]\n",
        "aggregated_results[\"XGBoost\"] = (y_test_agg, y_proba_xgb_agg)\n",
        "log_metrics_detailed(\"XGBoost (Aggregated)\", y_test_agg, y_pred_xgb_agg, y_proba_xgb_agg, start_time)\n",
        "joblib.dump(xgb_agg, os.path.join(results_dir, \"xgboost_agg_test.pkl\"))"
      ]
    },
    {
      "cell_type": "markdown",
      "metadata": {
        "id": "hq6Qaug3W-S8"
      },
      "source": [
        "##### **RANDOM FOREST MODEL (RF)**"
      ]
    },
    {
      "cell_type": "code",
      "execution_count": 15,
      "metadata": {
        "colab": {
          "base_uri": "https://localhost:8080/"
        },
        "id": "-5QxohyiW-b-",
        "outputId": "6af541f7-674f-48c3-9b8c-59ee5df5c91d"
      },
      "outputs": [
        {
          "output_type": "stream",
          "name": "stdout",
          "text": [
            "Model: Random Forest (Aggregated)\n",
            "Class 0 (Non-Diabetic):\n",
            "  - Precision: 0.9406, Recall: 0.9592, F1-Score: 0.9498\n",
            "Class 1 (Diabetic):\n",
            "  - Precision: 0.9764, Recall: 0.9653, F1-Score: 0.9708\n",
            "Macro Average:\n",
            "  - Precision: 0.9585, Recall: 0.9622, F1-Score: 0.9603\n",
            "Weighted Average:\n",
            "  - Precision: 0.9633, Recall: 0.9631, F1-Score: 0.9632\n",
            "Accuracy: 0.9631\n",
            "ROC-AUC: 0.9886\n",
            "Runtime: 8.07 seconds\n",
            "\n"
          ]
        },
        {
          "output_type": "execute_result",
          "data": {
            "text/plain": [
              "['/content/drive/MyDrive/TFM 2024/results/random_forest_agg_test.joblib']"
            ]
          },
          "metadata": {},
          "execution_count": 15
        }
      ],
      "source": [
        "# 5. Random Forest\n",
        "start_time = time.time()\n",
        "rf_agg = RandomForestClassifier(n_estimators=100, max_depth=10, random_state=42)\n",
        "rf_agg.fit(X_train_processed, y_train_agg)\n",
        "y_pred_rf_agg = rf_agg.predict(X_test_processed)\n",
        "y_proba_rf_agg = rf_agg.predict_proba(X_test_processed)[:, 1]\n",
        "aggregated_results[\"Random Forest\"] = (y_test_agg, y_proba_rf_agg)\n",
        "log_metrics_detailed(\"Random Forest (Aggregated)\", y_test_agg, y_pred_rf_agg, y_proba_rf_agg, start_time)\n",
        "joblib.dump(rf_agg, os.path.join(results_dir, \"random_forest_agg_test.joblib\"))\n",
        "\n",
        "\n"
      ]
    },
    {
      "cell_type": "code",
      "execution_count": 16,
      "metadata": {
        "colab": {
          "base_uri": "https://localhost:8080/"
        },
        "id": "Df28wmq0EodX",
        "outputId": "bbac4534-c2ee-49bb-c3ab-8317aab3ee64"
      },
      "outputs": [
        {
          "output_type": "stream",
          "name": "stdout",
          "text": [
            "Metrics for all models with aggregated features saved to 'metrics_aggregated_features.csv'.\n"
          ]
        }
      ],
      "source": [
        "# Save metrics to CSV\n",
        "metrics_df.to_csv('/content/drive/MyDrive/TFM 2024/results/metrics_aggregated_features.csv', index=False)\n",
        "print(\"Metrics for all models with aggregated features saved to 'metrics_aggregated_features.csv'.\")"
      ]
    },
    {
      "cell_type": "markdown",
      "metadata": {
        "id": "jtkipKX7OljD"
      },
      "source": [
        "### **NON-AGGREGATED FEATURES MODEL**"
      ]
    },
    {
      "cell_type": "code",
      "execution_count": 26,
      "metadata": {
        "id": "vFink-MTOmES"
      },
      "outputs": [],
      "source": [
        "# Non-Aggregated Features Approach\n",
        "non_aggregated_results = {}\n",
        "\n",
        "# Features and target for Non-Aggregated Model\n",
        "X_no_agg = data[['Edad', 'Sexo', 'symptoms', 'Prueba', 'Resultado']]\n",
        "y_no_agg = (data['diagnostic'] == 'diabetic').astype(int)  # Binary target: 1 = diabetic, 0 = non-diabetic\n",
        "\n",
        "# Train-test split\n",
        "X_train_no_agg, X_test_no_agg, y_train_no_agg, y_test_no_agg = train_test_split(X_no_agg, y_no_agg, test_size=0.2, random_state=42)\n",
        "\n",
        "# Preprocessing\n",
        "preprocessor_no_agg = ColumnTransformer(\n",
        "    transformers=[\n",
        "        ('num', Pipeline([('imputer', SimpleImputer(strategy='mean')), ('scaler', StandardScaler())]),\n",
        "         ['Resultado', 'Edad']),  # Numerical features\n",
        "        ('cat', OneHotEncoder(handle_unknown='ignore'), ['Sexo', 'symptoms', 'Prueba'])  # Categorical features\n",
        "    ]\n",
        ")\n",
        "\n",
        "# Preprocess the data\n",
        "X_train_processed = preprocessor_no_agg.fit_transform(X_train_no_agg)\n",
        "X_test_processed = preprocessor_no_agg.transform(X_test_no_agg)"
      ]
    },
    {
      "cell_type": "code",
      "execution_count": 27,
      "metadata": {
        "id": "BracPgLAMsMP"
      },
      "outputs": [],
      "source": [
        "# Metrics DataFrame\n",
        "metrics_df = pd.DataFrame(columns=['Model', 'Metric', 'Precision', 'Recall', 'F1-Score', 'Accuracy', 'ROC-AUC', 'Runtime'])"
      ]
    },
    {
      "cell_type": "markdown",
      "metadata": {
        "id": "LiHEnYtRytKh"
      },
      "source": [
        "##### **LOGISTIC REGRESSION (LR)**"
      ]
    },
    {
      "cell_type": "code",
      "execution_count": 28,
      "metadata": {
        "colab": {
          "base_uri": "https://localhost:8080/"
        },
        "id": "z9haruH4pfzU",
        "outputId": "5d221375-e64e-4c20-f986-7a42db974499"
      },
      "outputs": [
        {
          "output_type": "stream",
          "name": "stdout",
          "text": [
            "Model: Logistic Regression (Non-Aggregated)\n",
            "Class 0 (Non-Diabetic):\n",
            "  - Precision: 0.8957, Recall: 0.8073, F1-Score: 0.8492\n",
            "Class 1 (Diabetic):\n",
            "  - Precision: 0.9234, Recall: 0.9611, F1-Score: 0.9419\n",
            "Macro Average:\n",
            "  - Precision: 0.9096, Recall: 0.8842, F1-Score: 0.8956\n",
            "Weighted Average:\n",
            "  - Precision: 0.9153, Recall: 0.9161, F1-Score: 0.9148\n",
            "Accuracy: 0.9161\n",
            "ROC-AUC: 0.9769\n",
            "Runtime: 2.76 seconds\n",
            "\n"
          ]
        },
        {
          "output_type": "execute_result",
          "data": {
            "text/plain": [
              "['/content/drive/MyDrive/TFM 2024/results/logistic_regression_no_agg_test.joblib']"
            ]
          },
          "metadata": {},
          "execution_count": 28
        }
      ],
      "source": [
        "# 1. Logistic Regression\n",
        "start_time = time.time()\n",
        "model_lr_no_agg = LogisticRegression(max_iter=1000)\n",
        "model_lr_no_agg.fit(X_train_processed, y_train_no_agg)\n",
        "y_pred_lr_no_agg = model_lr_no_agg.predict(X_test_processed)\n",
        "y_proba_lr_no_agg = model_lr_no_agg.predict_proba(X_test_processed)[:, 1]\n",
        "non_aggregated_results[\"Logistic Regression\"] = (y_test_no_agg, y_proba_lr_no_agg)\n",
        "log_metrics_detailed(\"Logistic Regression (Non-Aggregated)\", y_test_no_agg, y_pred_lr_no_agg, y_proba_lr_no_agg, start_time)\n",
        "joblib.dump(model_lr_no_agg, os.path.join(results_dir, \"logistic_regression_no_agg_test.joblib\"))"
      ]
    },
    {
      "cell_type": "markdown",
      "metadata": {
        "id": "EwQ7tSxgPdx7"
      },
      "source": [
        "#####  **SUPPORT VECTOR MACHINE MODEL (SVM)**\n",
        "\n"
      ]
    },
    {
      "cell_type": "code",
      "execution_count": 29,
      "metadata": {
        "colab": {
          "base_uri": "https://localhost:8080/"
        },
        "id": "UMsQnNwLRW-q",
        "outputId": "a00b06c0-da59-42d6-d884-5773b03507d1"
      },
      "outputs": [
        {
          "output_type": "stream",
          "name": "stdout",
          "text": [
            "Model: SVM (GPU - Non-Aggregated)\n",
            "Class 0 (Non-Diabetic):\n",
            "  - Precision: 0.9062, Recall: 0.8313, F1-Score: 0.8671\n",
            "Class 1 (Diabetic):\n",
            "  - Precision: 0.9325, Recall: 0.9644, F1-Score: 0.9482\n",
            "Macro Average:\n",
            "  - Precision: 0.9194, Recall: 0.8978, F1-Score: 0.9077\n",
            "Weighted Average:\n",
            "  - Precision: 0.9248, Recall: 0.9254, F1-Score: 0.9245\n",
            "Accuracy: 0.9254\n",
            "ROC-AUC: 0.9811\n",
            "Runtime: 2714.36 seconds\n",
            "\n"
          ]
        },
        {
          "output_type": "execute_result",
          "data": {
            "text/plain": [
              "['/content/drive/MyDrive/TFM 2024/results/svm_gpu_no_agg_test.joblib']"
            ]
          },
          "metadata": {},
          "execution_count": 29
        }
      ],
      "source": [
        "# 2. CuML SVM (GPU)\n",
        "start_time = time.time()\n",
        "model_svc_no_agg = CuMLSVC(kernel='rbf', C=1, probability=True)  # Use CuML SVM\n",
        "model_svc_no_agg.fit(X_train_processed, y_train_no_agg.to_numpy())  # Convert y_train to NumPy array\n",
        "y_pred_svc_no_agg = model_svc_no_agg.predict(X_test_processed)\n",
        "y_proba_svc_no_agg = model_svc_no_agg.predict_proba(X_test_processed)[:, 1]\n",
        "non_aggregated_results[\"SVM (GPU)\"] = (y_test_no_agg, y_proba_svc_no_agg)\n",
        "log_metrics_detailed(\"SVM (GPU - Non-Aggregated)\", y_test_no_agg, y_pred_svc_no_agg, y_proba_svc_no_agg, start_time)\n",
        "joblib.dump(model_svc_no_agg, os.path.join(results_dir, \"svm_gpu_no_agg_test.joblib\"))\n"
      ]
    },
    {
      "cell_type": "markdown",
      "metadata": {
        "id": "jzEMfSozPd1o"
      },
      "source": [
        "##### **K-NEAREST NEIGHBOURHOOD MODEL (KNN)**\n",
        "\n"
      ]
    },
    {
      "cell_type": "code",
      "execution_count": 30,
      "metadata": {
        "id": "7QTo2w1OlzlP",
        "colab": {
          "base_uri": "https://localhost:8080/"
        },
        "outputId": "ce46bd86-a425-48cd-c6b0-168db928fdfa"
      },
      "outputs": [
        {
          "output_type": "stream",
          "name": "stdout",
          "text": [
            "Model: Faiss k-NN (Non-Aggregated Features)\n",
            "Class 0 (Non-Diabetic):\n",
            "  - Precision: 0.9890, Recall: 0.9846, F1-Score: 0.9868\n",
            "Class 1 (Diabetic):\n",
            "  - Precision: 0.9937, Recall: 0.9955, F1-Score: 0.9946\n",
            "Macro Average:\n",
            "  - Precision: 0.9913, Recall: 0.9900, F1-Score: 0.9907\n",
            "Weighted Average:\n",
            "  - Precision: 0.9923, Recall: 0.9923, F1-Score: 0.9923\n",
            "Accuracy: 0.9923\n",
            "ROC-AUC: 0.9987\n",
            "Runtime: 29.84 seconds\n",
            "\n",
            "FAISS index saved successfully to: /content/drive/MyDrive/TFM 2024/results/faiss_knn_non_aggregated_features.index\n"
          ]
        }
      ],
      "source": [
        "# 3. Faiss k-NN\n",
        "\n",
        "start_time = time.time()\n",
        "\n",
        "# Convert data to float32 arrays\n",
        "X_train_f32 = np.array(X_train_processed.todense(), dtype='float32') if hasattr(X_train_processed, \"todense\") else np.array(X_train_processed, dtype='float32')\n",
        "X_test_f32 = np.array(X_test_processed.todense(), dtype='float32') if hasattr(X_test_processed, \"todense\") else np.array(X_test_processed, dtype='float32')\n",
        "\n",
        "# Define FAISS resources and GPU index\n",
        "dimension = X_train_f32.shape[1]\n",
        "res = faiss.StandardGpuResources()\n",
        "index = faiss.IndexFlatL2(dimension)\n",
        "gpu_index_no_agg = faiss.index_cpu_to_gpu(res, 0, index)  # Descriptive variable name for Non-Aggregated Features\n",
        "\n",
        "# Add training data to the GPU index\n",
        "gpu_index_no_agg.add(X_train_f32)\n",
        "\n",
        "# Perform k-NN search\n",
        "distances, indices = gpu_index_no_agg.search(X_test_f32, k=5)\n",
        "y_train_array = y_train_no_agg.to_numpy() if hasattr(y_train_no_agg, \"to_numpy\") else np.array(y_train_no_agg)\n",
        "\n",
        "# Majority voting for classification\n",
        "y_pred_faiss_no_agg = np.array([np.argmax(np.bincount(y_train_array[neighbor_indices])) for neighbor_indices in indices])\n",
        "y_proba_faiss_no_agg = np.array([np.mean(y_train_array[neighbor_indices]) for neighbor_indices in indices])\n",
        "\n",
        "# Log results\n",
        "non_aggregated_results[\"Faiss k-NN\"] = (y_test_no_agg, y_proba_faiss_no_agg)\n",
        "log_metrics_detailed(\"Faiss k-NN (Non-Aggregated Features)\", y_test_no_agg, y_pred_faiss_no_agg, y_proba_faiss_no_agg, start_time)\n",
        "\n",
        "# Save FAISS index\n",
        "save_faiss_index(gpu_index_no_agg, os.path.join(results_dir, \"faiss_knn_non_aggregated_features.index\"))\n"
      ]
    },
    {
      "cell_type": "markdown",
      "metadata": {
        "id": "z6VB_esrPd5N"
      },
      "source": [
        "##### **GRADIENT BOOSTING MACHINE MODEL (GBM)**"
      ]
    },
    {
      "cell_type": "code",
      "execution_count": 31,
      "metadata": {
        "id": "g7s_elOcYIgL",
        "colab": {
          "base_uri": "https://localhost:8080/"
        },
        "outputId": "3509b343-4c58-4185-c153-28bb0451b269"
      },
      "outputs": [
        {
          "output_type": "stream",
          "name": "stdout",
          "text": [
            "Model: XGBoost (Non-Aggregated)\n",
            "Class 0 (Non-Diabetic):\n",
            "  - Precision: 0.9156, Recall: 0.8570, F1-Score: 0.8853\n",
            "Class 1 (Diabetic):\n",
            "  - Precision: 0.9423, Recall: 0.9673, F1-Score: 0.9547\n",
            "Macro Average:\n",
            "  - Precision: 0.9290, Recall: 0.9121, F1-Score: 0.9200\n",
            "Weighted Average:\n",
            "  - Precision: 0.9345, Recall: 0.9350, F1-Score: 0.9344\n",
            "Accuracy: 0.9350\n",
            "ROC-AUC: 0.9849\n",
            "Runtime: 15.79 seconds\n",
            "\n"
          ]
        },
        {
          "output_type": "execute_result",
          "data": {
            "text/plain": [
              "['/content/drive/MyDrive/TFM 2024/results/xgboost_no_agg_test.pkl']"
            ]
          },
          "metadata": {},
          "execution_count": 31
        }
      ],
      "source": [
        "# 4. XGBoost\n",
        "start_time = time.time()\n",
        "xgb_no_agg = XGBClassifier(n_estimators=100, max_depth=5, learning_rate=0.1, random_state=42)\n",
        "xgb_no_agg.fit(X_train_processed, y_train_no_agg)\n",
        "y_pred_xgb_no_agg = xgb_no_agg.predict(X_test_processed)\n",
        "y_proba_xgb_no_agg = xgb_no_agg.predict_proba(X_test_processed)[:, 1]\n",
        "non_aggregated_results[\"XGBoost\"] = (y_test_no_agg, y_proba_xgb_no_agg)\n",
        "log_metrics_detailed(\"XGBoost (Non-Aggregated)\", y_test_no_agg, y_pred_xgb_no_agg, y_proba_xgb_no_agg, start_time)\n",
        "joblib.dump(xgb_no_agg, os.path.join(results_dir, \"xgboost_no_agg_test.pkl\"))"
      ]
    },
    {
      "cell_type": "markdown",
      "metadata": {
        "id": "q5l-GHnItwsm"
      },
      "source": [
        "##### **RANDOM FOREST MODEL (RF)**"
      ]
    },
    {
      "cell_type": "code",
      "execution_count": 32,
      "metadata": {
        "id": "4tuMGibTYeYy",
        "colab": {
          "base_uri": "https://localhost:8080/"
        },
        "outputId": "fd90a2c3-51e7-4375-90b5-e3850a7398db"
      },
      "outputs": [
        {
          "output_type": "stream",
          "name": "stdout",
          "text": [
            "Model: Random Forest (Non-Aggregated)\n",
            "Class 0 (Non-Diabetic):\n",
            "  - Precision: 0.9707, Recall: 0.7445, F1-Score: 0.8427\n",
            "Class 1 (Diabetic):\n",
            "  - Precision: 0.9036, Recall: 0.9907, F1-Score: 0.9451\n",
            "Macro Average:\n",
            "  - Precision: 0.9371, Recall: 0.8676, F1-Score: 0.8939\n",
            "Weighted Average:\n",
            "  - Precision: 0.9232, Recall: 0.9186, F1-Score: 0.9151\n",
            "Accuracy: 0.9186\n",
            "ROC-AUC: 0.9827\n",
            "Runtime: 123.71 seconds\n",
            "\n"
          ]
        },
        {
          "output_type": "execute_result",
          "data": {
            "text/plain": [
              "['/content/drive/MyDrive/TFM 2024/results/random_forest_no_agg_test.joblib']"
            ]
          },
          "metadata": {},
          "execution_count": 32
        }
      ],
      "source": [
        "# 5. Random Forest\n",
        "start_time = time.time()\n",
        "rf_no_agg = RandomForestClassifier(n_estimators=100, max_depth=10, random_state=42)\n",
        "rf_no_agg.fit(X_train_processed, y_train_no_agg)\n",
        "y_pred_rf_no_agg = rf_no_agg.predict(X_test_processed)\n",
        "y_proba_rf_no_agg = rf_no_agg.predict_proba(X_test_processed)[:, 1]\n",
        "non_aggregated_results[\"Random Forest\"] = (y_test_no_agg, y_proba_rf_no_agg)\n",
        "log_metrics_detailed(\"Random Forest (Non-Aggregated)\", y_test_no_agg, y_pred_rf_no_agg, y_proba_rf_no_agg, start_time)\n",
        "joblib.dump(rf_no_agg, os.path.join(results_dir, \"random_forest_no_agg_test.joblib\"))"
      ]
    },
    {
      "cell_type": "code",
      "execution_count": 33,
      "metadata": {
        "id": "tyEgpsi-F4LV",
        "colab": {
          "base_uri": "https://localhost:8080/"
        },
        "outputId": "d99d178a-558d-4a37-809c-82cef94ff5f9"
      },
      "outputs": [
        {
          "output_type": "stream",
          "name": "stdout",
          "text": [
            "Metrics for all models with non-aggregated features saved to 'metrics_non_aggregated_features.csv'.\n"
          ]
        }
      ],
      "source": [
        "# Save metrics to CSV\n",
        "metrics_df.to_csv('/content/drive/MyDrive/TFM 2024/results/metrics_non_aggregated_features.csv', index=False)\n",
        "print(\"Metrics for all models with non-aggregated features saved to 'metrics_non_aggregated_features.csv'.\")"
      ]
    },
    {
      "cell_type": "markdown",
      "metadata": {
        "id": "eVGDhG68ZEU7"
      },
      "source": [
        "### **TABLE SUPORTS**"
      ]
    },
    {
      "cell_type": "code",
      "execution_count": null,
      "metadata": {
        "id": "Zcd1JLIoZGyT"
      },
      "outputs": [],
      "source": [
        "# Calculate support (number of samples) for each dataset\n",
        "# No Aggregation Model\n",
        "support_no_agg = data['diagnostic'].value_counts().to_dict()\n",
        "\n",
        "# Latest Test Model\n",
        "support_latest = data_latest['diagnostic'].value_counts().to_dict()\n",
        "\n",
        "# Aggregated Features Model\n",
        "support_agg = data_agg['diagnostic_first'].value_counts().to_dict()\n",
        "\n",
        "# Combine support values into a single table\n",
        "support_table = pd.DataFrame({\n",
        "    \"Model\": [\"No Aggregation Model\", \"Latest Test Model\", \"Aggregated Features Model\"],\n",
        "    \"Diabetic\": [\n",
        "        support_no_agg.get('diabetic', 0),\n",
        "        support_latest.get('diabetic', 0),\n",
        "        support_agg.get('diabetic', 0),\n",
        "    ],\n",
        "    \"Non-Diabetic\": [\n",
        "        support_no_agg.get('non_diabetic', 0),\n",
        "        support_latest.get('non_diabetic', 0),\n",
        "        support_agg.get('non_diabetic', 0),\n",
        "    ],\n",
        "    \"Total\": [\n",
        "        len(data),\n",
        "        len(data_latest),\n",
        "        len(data_agg),\n",
        "    ]\n",
        "})\n"
      ]
    },
    {
      "cell_type": "code",
      "execution_count": null,
      "metadata": {
        "id": "Oz_O75yTZG6W"
      },
      "outputs": [],
      "source": [
        "# Calculate train-test split proportions\n",
        "train_ratio = 0.8\n",
        "\n",
        "# No Aggregation Model\n",
        "train_samples_no_agg = int(len(data) * train_ratio)\n",
        "test_samples_no_agg = len(data) - train_samples_no_agg\n",
        "\n",
        "train_support_no_agg = data.iloc[:train_samples_no_agg]['diagnostic'].value_counts().to_dict()\n",
        "test_support_no_agg = data.iloc[train_samples_no_agg:]['diagnostic'].value_counts().to_dict()\n",
        "\n",
        "# Latest Test Model\n",
        "train_samples_latest = int(len(data_latest) * train_ratio)\n",
        "test_samples_latest = len(data_latest) - train_samples_latest\n",
        "\n",
        "train_support_latest = data_latest.iloc[:train_samples_latest]['diagnostic'].value_counts().to_dict()\n",
        "test_support_latest = data_latest.iloc[train_samples_latest:]['diagnostic'].value_counts().to_dict()\n",
        "\n",
        "# Aggregated Features Model\n",
        "train_samples_agg = int(len(data_agg) * train_ratio)\n",
        "test_samples_agg = len(data_agg) - train_samples_agg\n",
        "\n",
        "train_support_agg = data_agg.iloc[:train_samples_agg]['diagnostic_first'].value_counts().to_dict()\n",
        "test_support_agg = data_agg.iloc[train_samples_agg:]['diagnostic_first'].value_counts().to_dict()\n",
        "\n",
        "# Create the support table split by train and test\n",
        "support_table_split = pd.DataFrame({\n",
        "    \"Model\": [\"No Aggregation Model\", \"Latest Test Model\", \"Aggregated Features Model\"],\n",
        "    \"Train Diabetic\": [\n",
        "        train_support_no_agg.get('diabetic', 0),\n",
        "        train_support_latest.get('diabetic', 0),\n",
        "        train_support_agg.get('diabetic', 0),\n",
        "    ],\n",
        "    \"Train Non-Diabetic\": [\n",
        "        train_support_no_agg.get('non_diabetic', 0),\n",
        "        train_support_latest.get('non_diabetic', 0),\n",
        "        train_support_agg.get('non_diabetic', 0),\n",
        "    ],\n",
        "    \"Test Diabetic\": [\n",
        "        test_support_no_agg.get('diabetic', 0),\n",
        "        test_support_latest.get('diabetic', 0),\n",
        "        test_support_agg.get('diabetic', 0),\n",
        "    ],\n",
        "    \"Test Non-Diabetic\": [\n",
        "        test_support_no_agg.get('non_diabetic', 0),\n",
        "        test_support_latest.get('non_diabetic', 0),\n",
        "        test_support_agg.get('non_diabetic', 0),\n",
        "    ],\n",
        "    \"Total\": [\n",
        "        len(data),\n",
        "        len(data_latest),\n",
        "        len(data_agg),\n",
        "    ]\n",
        "})\n"
      ]
    },
    {
      "cell_type": "markdown",
      "metadata": {
        "id": "O_2Y-HXeaF6c"
      },
      "source": [
        "### **PLOTS**"
      ]
    },
    {
      "cell_type": "code",
      "source": [
        "# Define the datasets\n",
        "datasets = {\n",
        "    \"Latest Test Results\": latest_test_results,\n",
        "    \"Aggregated Results\": aggregated_results,\n",
        "    \"Non-Aggregated Results\": non_aggregated_results\n",
        "}\n",
        "\n",
        "# Create subplots\n",
        "fig, axes = plt.subplots(1, 3, figsize=(18, 6), sharex=True, sharey=True)\n",
        "\n",
        "# Iterate over datasets and corresponding axes\n",
        "for ax, (title, results) in zip(axes, datasets.items()):\n",
        "    for model_name, (true_labels, predicted_probs) in results.items():\n",
        "        fpr, tpr, _ = roc_curve(true_labels, predicted_probs)\n",
        "        auc_score = roc_auc_score(true_labels, predicted_probs)\n",
        "        ax.plot(fpr, tpr, label=f\"{model_name} (AUC = {auc_score:.2f})\")\n",
        "\n",
        "    ax.set_title(title)\n",
        "    ax.set_xlabel(\"False Positive Rate\")\n",
        "    ax.set_ylabel(\"True Positive Rate\")\n",
        "    ax.legend(loc=\"lower right\")\n",
        "    ax.grid()\n",
        "\n",
        "# Adjust layout and display\n",
        "plt.tight_layout()\n",
        "plt.show()\n",
        "\n",
        "# Save\n",
        "plot_filename = \"/content/drive/MyDrive/TFM 2024/results/roc_curves_by_model_and_approach.png\"\n",
        "fig.savefig(plot_filename, dpi=300)  # Save with high resolution\n",
        "\n"
      ],
      "metadata": {
        "colab": {
          "base_uri": "https://localhost:8080/",
          "height": 585
        },
        "id": "SQbmNL8JnpAk",
        "outputId": "c3305ea7-ee39-435d-d5d9-6a0e15665a1e"
      },
      "execution_count": 50,
      "outputs": [
        {
          "output_type": "display_data",
          "data": {
            "text/plain": [
              "<Figure size 1800x600 with 3 Axes>"
            ],
            "image/png": "[encoded data removed]"
          },
          "metadata": {}
        }
      ]
    }
  ],
  "metadata": {
    "accelerator": "GPU",
    "colab": {
      "gpuType": "T4",
      "provenance": [],
      "collapsed_sections": [
        "LoA15fOuTmSe",
        "gZOna3ovNIi9",
        "-uTMRbDbvy0l",
        "-FCFZA-WSlgy",
        "OxDqRah1WPiT",
        "vLzqTbl6WR4x",
        "_cEdGxriOfzg",
        "OUrL-7VFXDfI",
        "-B_4BPnsyle5",
        "QAn7069c1LVB",
        "niYs_2R8VJzt",
        "Ha8px8rHW3w5",
        "hq6Qaug3W-S8",
        "LiHEnYtRytKh"
      ]
    },
    "kernelspec": {
      "display_name": "Python 3",
      "name": "python3"
    },
    "language_info": {
      "name": "python"
    }
  },
  "nbformat": 4,
  "nbformat_minor": 0
}